{
 "cells": [
  {
   "cell_type": "markdown",
   "id": "aecab732",
   "metadata": {},
   "source": [
    "# COVID-19 Dataset\n",
    "https://www.kaggle.com/datasets/meirnizri/covid19-dataset?resource=download"
   ]
  },
  {
   "cell_type": "markdown",
   "id": "2076a187",
   "metadata": {},
   "source": [
    "Coronavirus disease (COVID-19) is an infectious disease caused by a newly discovered coronavirus. Most people infected with COVID-19 virus will experience mild to moderate respiratory illness and recover without requiring special treatment. Older people, and those with underlying medical problems like cardiovascular disease, diabetes, chronic respiratory disease, and cancer are more likely to develop serious illness.\n",
    "During the entire course of the pandemic, one of the main problems that healthcare providers have faced is the shortage of medical resources and a proper plan to efficiently distribute them. In these tough times, being able to predict what kind of resource an individual might require at the time of being tested positive or even before that will be of immense help to the authorities as they would be able to procure and arrange for the resources necessary to save the life of that patient.\n",
    "\n",
    "The main goal of this project is to build a machine learning model that, given a Covid-19 patient's current symptom, status, and medical history, will predict whether the patient is in high risk or not. \n",
    "\n",
    "The dataset was provided by the Mexican government (link). This dataset contains an enormous number of anonymized patient-related information including pre-conditions. The raw dataset consists of 21 unique features and 1,048,576 unique patients. In the Boolean features, 1 means \"yes\" and 2 means \"no\". values as 97 and 99 are missing data.\n",
    "\n",
    "- `sex`: 1 for female and 2 for male.\n",
    "- `age`: of the patient.\n",
    "- `classification`: covid test findings. Values 1-3 mean that the patient was diagnosed with covid in different degrees. 4 or higher means that the patient is not a carrier of covid or that the test is inconclusive.\n",
    "- `patient type`: type of care the patient received in the unit. 1 for returned home and 2 for hospitalization.\n",
    "- `pneumonia`: whether the patient already have air sacs inflammation or not.\n",
    "- `pregnancy`: whether the patient is pregnant or not.\n",
    "- `diabetes`: whether the patient has diabetes or not.\n",
    "- `copd`: Indicates whether the patient has Chronic obstructive pulmonary disease or not.\n",
    "- `asthma`: whether the patient has asthma or not.\n",
    "- `inmsupr`: whether the patient is immunosuppressed or not.\n",
    "- `hypertension`: whether the patient has hypertension or not.\n",
    "- `cardiovascular`: whether the patient has heart or blood vessels related disease.\n",
    "- `renal chronic`: whether the patient has chronic renal disease or not.\n",
    "- `other disease`: whether the patient has other disease or not.\n",
    "- `obesity`: whether the patient is obese or not.\n",
    "- `tobacco`: whether the patient is a tobacco user.\n",
    "- `usmr`: Indicates whether the patient treated medical units of the first, second or third level.\n",
    "- `medical` unit: type of institution of the National Health System that provided the care.\n",
    "- `intubed`: whether the patient was connected to the ventilator.\n",
    "- `icu`: Indicates whether the patient had been admitted to an Intensive Care Unit.\n",
    "- `date died`: If the patient died indicate the date of death, and 9999-99-99 otherwise.\n",
    "\n",
    "CONSIDERATIONS: \n",
    "- This dataset doesn't contain a target column. You have to generate the target column considering the people that died or not (field `date died`)\n",
    "- The dataset maybe it's unbalance. Have this into consideration for your analysis\n",
    "- Don't forget to try all the models that we learned in class, try different hyperparameters with the Grid Search and DOCUMENT ALL YOUR CONCLUSIONS AND THOUGHTS IN THE JUPYTER NOTEBOOK"
   ]
  },
  {
   "cell_type": "code",
   "execution_count": 1,
   "id": "2553bc85",
   "metadata": {},
   "outputs": [],
   "source": [
    "import pandas as pd\n",
    "import numpy as np\n",
    "import matplotlib.pyplot as plt\n",
    "import seaborn as sns\n",
    "pd.options.display.max_columns = None"
   ]
  },
  {
   "cell_type": "code",
   "execution_count": 2,
   "id": "8e76e023",
   "metadata": {},
   "outputs": [
    {
     "data": {
      "text/html": [
       "<div>\n",
       "<style scoped>\n",
       "    .dataframe tbody tr th:only-of-type {\n",
       "        vertical-align: middle;\n",
       "    }\n",
       "\n",
       "    .dataframe tbody tr th {\n",
       "        vertical-align: top;\n",
       "    }\n",
       "\n",
       "    .dataframe thead th {\n",
       "        text-align: right;\n",
       "    }\n",
       "</style>\n",
       "<table border=\"1\" class=\"dataframe\">\n",
       "  <thead>\n",
       "    <tr style=\"text-align: right;\">\n",
       "      <th></th>\n",
       "      <th>USMER</th>\n",
       "      <th>MEDICAL_UNIT</th>\n",
       "      <th>SEX</th>\n",
       "      <th>PATIENT_TYPE</th>\n",
       "      <th>DATE_DIED</th>\n",
       "      <th>INTUBED</th>\n",
       "      <th>PNEUMONIA</th>\n",
       "      <th>AGE</th>\n",
       "      <th>PREGNANT</th>\n",
       "      <th>DIABETES</th>\n",
       "      <th>COPD</th>\n",
       "      <th>ASTHMA</th>\n",
       "      <th>INMSUPR</th>\n",
       "      <th>HIPERTENSION</th>\n",
       "      <th>OTHER_DISEASE</th>\n",
       "      <th>CARDIOVASCULAR</th>\n",
       "      <th>OBESITY</th>\n",
       "      <th>RENAL_CHRONIC</th>\n",
       "      <th>TOBACCO</th>\n",
       "      <th>CLASIFFICATION_FINAL</th>\n",
       "      <th>ICU</th>\n",
       "    </tr>\n",
       "  </thead>\n",
       "  <tbody>\n",
       "    <tr>\n",
       "      <th>0</th>\n",
       "      <td>2</td>\n",
       "      <td>1</td>\n",
       "      <td>1</td>\n",
       "      <td>1</td>\n",
       "      <td>03/05/2020</td>\n",
       "      <td>97</td>\n",
       "      <td>1</td>\n",
       "      <td>65</td>\n",
       "      <td>2</td>\n",
       "      <td>2</td>\n",
       "      <td>2</td>\n",
       "      <td>2</td>\n",
       "      <td>2</td>\n",
       "      <td>1</td>\n",
       "      <td>2</td>\n",
       "      <td>2</td>\n",
       "      <td>2</td>\n",
       "      <td>2</td>\n",
       "      <td>2</td>\n",
       "      <td>3</td>\n",
       "      <td>97</td>\n",
       "    </tr>\n",
       "    <tr>\n",
       "      <th>1</th>\n",
       "      <td>2</td>\n",
       "      <td>1</td>\n",
       "      <td>2</td>\n",
       "      <td>1</td>\n",
       "      <td>03/06/2020</td>\n",
       "      <td>97</td>\n",
       "      <td>1</td>\n",
       "      <td>72</td>\n",
       "      <td>97</td>\n",
       "      <td>2</td>\n",
       "      <td>2</td>\n",
       "      <td>2</td>\n",
       "      <td>2</td>\n",
       "      <td>1</td>\n",
       "      <td>2</td>\n",
       "      <td>2</td>\n",
       "      <td>1</td>\n",
       "      <td>1</td>\n",
       "      <td>2</td>\n",
       "      <td>5</td>\n",
       "      <td>97</td>\n",
       "    </tr>\n",
       "    <tr>\n",
       "      <th>2</th>\n",
       "      <td>2</td>\n",
       "      <td>1</td>\n",
       "      <td>2</td>\n",
       "      <td>2</td>\n",
       "      <td>09/06/2020</td>\n",
       "      <td>1</td>\n",
       "      <td>2</td>\n",
       "      <td>55</td>\n",
       "      <td>97</td>\n",
       "      <td>1</td>\n",
       "      <td>2</td>\n",
       "      <td>2</td>\n",
       "      <td>2</td>\n",
       "      <td>2</td>\n",
       "      <td>2</td>\n",
       "      <td>2</td>\n",
       "      <td>2</td>\n",
       "      <td>2</td>\n",
       "      <td>2</td>\n",
       "      <td>3</td>\n",
       "      <td>2</td>\n",
       "    </tr>\n",
       "    <tr>\n",
       "      <th>3</th>\n",
       "      <td>2</td>\n",
       "      <td>1</td>\n",
       "      <td>1</td>\n",
       "      <td>1</td>\n",
       "      <td>12/06/2020</td>\n",
       "      <td>97</td>\n",
       "      <td>2</td>\n",
       "      <td>53</td>\n",
       "      <td>2</td>\n",
       "      <td>2</td>\n",
       "      <td>2</td>\n",
       "      <td>2</td>\n",
       "      <td>2</td>\n",
       "      <td>2</td>\n",
       "      <td>2</td>\n",
       "      <td>2</td>\n",
       "      <td>2</td>\n",
       "      <td>2</td>\n",
       "      <td>2</td>\n",
       "      <td>7</td>\n",
       "      <td>97</td>\n",
       "    </tr>\n",
       "    <tr>\n",
       "      <th>4</th>\n",
       "      <td>2</td>\n",
       "      <td>1</td>\n",
       "      <td>2</td>\n",
       "      <td>1</td>\n",
       "      <td>21/06/2020</td>\n",
       "      <td>97</td>\n",
       "      <td>2</td>\n",
       "      <td>68</td>\n",
       "      <td>97</td>\n",
       "      <td>1</td>\n",
       "      <td>2</td>\n",
       "      <td>2</td>\n",
       "      <td>2</td>\n",
       "      <td>1</td>\n",
       "      <td>2</td>\n",
       "      <td>2</td>\n",
       "      <td>2</td>\n",
       "      <td>2</td>\n",
       "      <td>2</td>\n",
       "      <td>3</td>\n",
       "      <td>97</td>\n",
       "    </tr>\n",
       "  </tbody>\n",
       "</table>\n",
       "</div>"
      ],
      "text/plain": [
       "   USMER  MEDICAL_UNIT  SEX  PATIENT_TYPE   DATE_DIED  INTUBED  PNEUMONIA  \\\n",
       "0      2             1    1             1  03/05/2020       97          1   \n",
       "1      2             1    2             1  03/06/2020       97          1   \n",
       "2      2             1    2             2  09/06/2020        1          2   \n",
       "3      2             1    1             1  12/06/2020       97          2   \n",
       "4      2             1    2             1  21/06/2020       97          2   \n",
       "\n",
       "   AGE  PREGNANT  DIABETES  COPD  ASTHMA  INMSUPR  HIPERTENSION  \\\n",
       "0   65         2         2     2       2        2             1   \n",
       "1   72        97         2     2       2        2             1   \n",
       "2   55        97         1     2       2        2             2   \n",
       "3   53         2         2     2       2        2             2   \n",
       "4   68        97         1     2       2        2             1   \n",
       "\n",
       "   OTHER_DISEASE  CARDIOVASCULAR  OBESITY  RENAL_CHRONIC  TOBACCO  \\\n",
       "0              2               2        2              2        2   \n",
       "1              2               2        1              1        2   \n",
       "2              2               2        2              2        2   \n",
       "3              2               2        2              2        2   \n",
       "4              2               2        2              2        2   \n",
       "\n",
       "   CLASIFFICATION_FINAL  ICU  \n",
       "0                     3   97  \n",
       "1                     5   97  \n",
       "2                     3    2  \n",
       "3                     7   97  \n",
       "4                     3   97  "
      ]
     },
     "execution_count": 2,
     "metadata": {},
     "output_type": "execute_result"
    }
   ],
   "source": [
    "df = pd.read_csv('00-Covid-Data.csv')\n",
    "df.head()"
   ]
  },
  {
   "cell_type": "markdown",
   "id": "fa5bd6ac",
   "metadata": {},
   "source": [
    "# Análisis exploratorio"
   ]
  },
  {
   "cell_type": "code",
   "execution_count": 3,
   "id": "cde7b1f9",
   "metadata": {},
   "outputs": [
    {
     "name": "stdout",
     "output_type": "stream",
     "text": [
      "<class 'pandas.core.frame.DataFrame'>\n",
      "RangeIndex: 1048575 entries, 0 to 1048574\n",
      "Data columns (total 21 columns):\n",
      " #   Column                Non-Null Count    Dtype \n",
      "---  ------                --------------    ----- \n",
      " 0   USMER                 1048575 non-null  int64 \n",
      " 1   MEDICAL_UNIT          1048575 non-null  int64 \n",
      " 2   SEX                   1048575 non-null  int64 \n",
      " 3   PATIENT_TYPE          1048575 non-null  int64 \n",
      " 4   DATE_DIED             1048575 non-null  object\n",
      " 5   INTUBED               1048575 non-null  int64 \n",
      " 6   PNEUMONIA             1048575 non-null  int64 \n",
      " 7   AGE                   1048575 non-null  int64 \n",
      " 8   PREGNANT              1048575 non-null  int64 \n",
      " 9   DIABETES              1048575 non-null  int64 \n",
      " 10  COPD                  1048575 non-null  int64 \n",
      " 11  ASTHMA                1048575 non-null  int64 \n",
      " 12  INMSUPR               1048575 non-null  int64 \n",
      " 13  HIPERTENSION          1048575 non-null  int64 \n",
      " 14  OTHER_DISEASE         1048575 non-null  int64 \n",
      " 15  CARDIOVASCULAR        1048575 non-null  int64 \n",
      " 16  OBESITY               1048575 non-null  int64 \n",
      " 17  RENAL_CHRONIC         1048575 non-null  int64 \n",
      " 18  TOBACCO               1048575 non-null  int64 \n",
      " 19  CLASIFFICATION_FINAL  1048575 non-null  int64 \n",
      " 20  ICU                   1048575 non-null  int64 \n",
      "dtypes: int64(20), object(1)\n",
      "memory usage: 168.0+ MB\n"
     ]
    }
   ],
   "source": [
    "df.info()"
   ]
  },
  {
   "cell_type": "markdown",
   "id": "94e246a9",
   "metadata": {},
   "source": [
    "\n",
    "\n",
    "*   Tenemos 21 Columnas y 1048575 Filas.\n",
    "*   Todas las columnas son de tipo enteras excepto DATE_DIED.\n",
    "\n",
    "\n",
    "*   Dado que los valores 97 y 99 son considerados nulos habrá que analizarlos y tratarlos según convenga.\n",
    "\n",
    "\n",
    "*   En las características booleanas, el valor 1 significa \"sí\" y el valor 2 significa \"no\".\n",
    "*   La columna objetivo deberé crearla teniendo en cuenta la columna\n",
    "    DATE_DIED, para saber el estado del paciente.\n"
   ]
  },
  {
   "cell_type": "code",
   "execution_count": 4,
   "id": "39e07bb7",
   "metadata": {},
   "outputs": [
    {
     "data": {
      "text/html": [
       "<div>\n",
       "<style scoped>\n",
       "    .dataframe tbody tr th:only-of-type {\n",
       "        vertical-align: middle;\n",
       "    }\n",
       "\n",
       "    .dataframe tbody tr th {\n",
       "        vertical-align: top;\n",
       "    }\n",
       "\n",
       "    .dataframe thead th {\n",
       "        text-align: right;\n",
       "    }\n",
       "</style>\n",
       "<table border=\"1\" class=\"dataframe\">\n",
       "  <thead>\n",
       "    <tr style=\"text-align: right;\">\n",
       "      <th></th>\n",
       "      <th>USMER</th>\n",
       "      <th>MEDICAL_UNIT</th>\n",
       "      <th>SEX</th>\n",
       "      <th>PATIENT_TYPE</th>\n",
       "      <th>INTUBED</th>\n",
       "      <th>PNEUMONIA</th>\n",
       "      <th>AGE</th>\n",
       "      <th>PREGNANT</th>\n",
       "      <th>DIABETES</th>\n",
       "      <th>COPD</th>\n",
       "      <th>ASTHMA</th>\n",
       "      <th>INMSUPR</th>\n",
       "      <th>HIPERTENSION</th>\n",
       "      <th>OTHER_DISEASE</th>\n",
       "      <th>CARDIOVASCULAR</th>\n",
       "      <th>OBESITY</th>\n",
       "      <th>RENAL_CHRONIC</th>\n",
       "      <th>TOBACCO</th>\n",
       "      <th>CLASIFFICATION_FINAL</th>\n",
       "      <th>ICU</th>\n",
       "    </tr>\n",
       "  </thead>\n",
       "  <tbody>\n",
       "    <tr>\n",
       "      <th>count</th>\n",
       "      <td>1.048575e+06</td>\n",
       "      <td>1.048575e+06</td>\n",
       "      <td>1.048575e+06</td>\n",
       "      <td>1.048575e+06</td>\n",
       "      <td>1.048575e+06</td>\n",
       "      <td>1.048575e+06</td>\n",
       "      <td>1.048575e+06</td>\n",
       "      <td>1.048575e+06</td>\n",
       "      <td>1.048575e+06</td>\n",
       "      <td>1.048575e+06</td>\n",
       "      <td>1.048575e+06</td>\n",
       "      <td>1.048575e+06</td>\n",
       "      <td>1.048575e+06</td>\n",
       "      <td>1.048575e+06</td>\n",
       "      <td>1.048575e+06</td>\n",
       "      <td>1.048575e+06</td>\n",
       "      <td>1.048575e+06</td>\n",
       "      <td>1.048575e+06</td>\n",
       "      <td>1.048575e+06</td>\n",
       "      <td>1.048575e+06</td>\n",
       "    </tr>\n",
       "    <tr>\n",
       "      <th>mean</th>\n",
       "      <td>1.632194e+00</td>\n",
       "      <td>8.980565e+00</td>\n",
       "      <td>1.499259e+00</td>\n",
       "      <td>1.190765e+00</td>\n",
       "      <td>7.952288e+01</td>\n",
       "      <td>3.346831e+00</td>\n",
       "      <td>4.179410e+01</td>\n",
       "      <td>4.976558e+01</td>\n",
       "      <td>2.186404e+00</td>\n",
       "      <td>2.260569e+00</td>\n",
       "      <td>2.242626e+00</td>\n",
       "      <td>2.298132e+00</td>\n",
       "      <td>2.128989e+00</td>\n",
       "      <td>2.435143e+00</td>\n",
       "      <td>2.261810e+00</td>\n",
       "      <td>2.125176e+00</td>\n",
       "      <td>2.257180e+00</td>\n",
       "      <td>2.214333e+00</td>\n",
       "      <td>5.305653e+00</td>\n",
       "      <td>7.955397e+01</td>\n",
       "    </tr>\n",
       "    <tr>\n",
       "      <th>std</th>\n",
       "      <td>4.822084e-01</td>\n",
       "      <td>3.723278e+00</td>\n",
       "      <td>4.999997e-01</td>\n",
       "      <td>3.929041e-01</td>\n",
       "      <td>3.686889e+01</td>\n",
       "      <td>1.191288e+01</td>\n",
       "      <td>1.690739e+01</td>\n",
       "      <td>4.751073e+01</td>\n",
       "      <td>5.424242e+00</td>\n",
       "      <td>5.132258e+00</td>\n",
       "      <td>5.114089e+00</td>\n",
       "      <td>5.462843e+00</td>\n",
       "      <td>5.236397e+00</td>\n",
       "      <td>6.646676e+00</td>\n",
       "      <td>5.194850e+00</td>\n",
       "      <td>5.175445e+00</td>\n",
       "      <td>5.135354e+00</td>\n",
       "      <td>5.323097e+00</td>\n",
       "      <td>1.881165e+00</td>\n",
       "      <td>3.682307e+01</td>\n",
       "    </tr>\n",
       "    <tr>\n",
       "      <th>min</th>\n",
       "      <td>1.000000e+00</td>\n",
       "      <td>1.000000e+00</td>\n",
       "      <td>1.000000e+00</td>\n",
       "      <td>1.000000e+00</td>\n",
       "      <td>1.000000e+00</td>\n",
       "      <td>1.000000e+00</td>\n",
       "      <td>0.000000e+00</td>\n",
       "      <td>1.000000e+00</td>\n",
       "      <td>1.000000e+00</td>\n",
       "      <td>1.000000e+00</td>\n",
       "      <td>1.000000e+00</td>\n",
       "      <td>1.000000e+00</td>\n",
       "      <td>1.000000e+00</td>\n",
       "      <td>1.000000e+00</td>\n",
       "      <td>1.000000e+00</td>\n",
       "      <td>1.000000e+00</td>\n",
       "      <td>1.000000e+00</td>\n",
       "      <td>1.000000e+00</td>\n",
       "      <td>1.000000e+00</td>\n",
       "      <td>1.000000e+00</td>\n",
       "    </tr>\n",
       "    <tr>\n",
       "      <th>25%</th>\n",
       "      <td>1.000000e+00</td>\n",
       "      <td>4.000000e+00</td>\n",
       "      <td>1.000000e+00</td>\n",
       "      <td>1.000000e+00</td>\n",
       "      <td>9.700000e+01</td>\n",
       "      <td>2.000000e+00</td>\n",
       "      <td>3.000000e+01</td>\n",
       "      <td>2.000000e+00</td>\n",
       "      <td>2.000000e+00</td>\n",
       "      <td>2.000000e+00</td>\n",
       "      <td>2.000000e+00</td>\n",
       "      <td>2.000000e+00</td>\n",
       "      <td>2.000000e+00</td>\n",
       "      <td>2.000000e+00</td>\n",
       "      <td>2.000000e+00</td>\n",
       "      <td>2.000000e+00</td>\n",
       "      <td>2.000000e+00</td>\n",
       "      <td>2.000000e+00</td>\n",
       "      <td>3.000000e+00</td>\n",
       "      <td>9.700000e+01</td>\n",
       "    </tr>\n",
       "    <tr>\n",
       "      <th>50%</th>\n",
       "      <td>2.000000e+00</td>\n",
       "      <td>1.200000e+01</td>\n",
       "      <td>1.000000e+00</td>\n",
       "      <td>1.000000e+00</td>\n",
       "      <td>9.700000e+01</td>\n",
       "      <td>2.000000e+00</td>\n",
       "      <td>4.000000e+01</td>\n",
       "      <td>9.700000e+01</td>\n",
       "      <td>2.000000e+00</td>\n",
       "      <td>2.000000e+00</td>\n",
       "      <td>2.000000e+00</td>\n",
       "      <td>2.000000e+00</td>\n",
       "      <td>2.000000e+00</td>\n",
       "      <td>2.000000e+00</td>\n",
       "      <td>2.000000e+00</td>\n",
       "      <td>2.000000e+00</td>\n",
       "      <td>2.000000e+00</td>\n",
       "      <td>2.000000e+00</td>\n",
       "      <td>6.000000e+00</td>\n",
       "      <td>9.700000e+01</td>\n",
       "    </tr>\n",
       "    <tr>\n",
       "      <th>75%</th>\n",
       "      <td>2.000000e+00</td>\n",
       "      <td>1.200000e+01</td>\n",
       "      <td>2.000000e+00</td>\n",
       "      <td>1.000000e+00</td>\n",
       "      <td>9.700000e+01</td>\n",
       "      <td>2.000000e+00</td>\n",
       "      <td>5.300000e+01</td>\n",
       "      <td>9.700000e+01</td>\n",
       "      <td>2.000000e+00</td>\n",
       "      <td>2.000000e+00</td>\n",
       "      <td>2.000000e+00</td>\n",
       "      <td>2.000000e+00</td>\n",
       "      <td>2.000000e+00</td>\n",
       "      <td>2.000000e+00</td>\n",
       "      <td>2.000000e+00</td>\n",
       "      <td>2.000000e+00</td>\n",
       "      <td>2.000000e+00</td>\n",
       "      <td>2.000000e+00</td>\n",
       "      <td>7.000000e+00</td>\n",
       "      <td>9.700000e+01</td>\n",
       "    </tr>\n",
       "    <tr>\n",
       "      <th>max</th>\n",
       "      <td>2.000000e+00</td>\n",
       "      <td>1.300000e+01</td>\n",
       "      <td>2.000000e+00</td>\n",
       "      <td>2.000000e+00</td>\n",
       "      <td>9.900000e+01</td>\n",
       "      <td>9.900000e+01</td>\n",
       "      <td>1.210000e+02</td>\n",
       "      <td>9.800000e+01</td>\n",
       "      <td>9.800000e+01</td>\n",
       "      <td>9.800000e+01</td>\n",
       "      <td>9.800000e+01</td>\n",
       "      <td>9.800000e+01</td>\n",
       "      <td>9.800000e+01</td>\n",
       "      <td>9.800000e+01</td>\n",
       "      <td>9.800000e+01</td>\n",
       "      <td>9.800000e+01</td>\n",
       "      <td>9.800000e+01</td>\n",
       "      <td>9.800000e+01</td>\n",
       "      <td>7.000000e+00</td>\n",
       "      <td>9.900000e+01</td>\n",
       "    </tr>\n",
       "  </tbody>\n",
       "</table>\n",
       "</div>"
      ],
      "text/plain": [
       "              USMER  MEDICAL_UNIT           SEX  PATIENT_TYPE       INTUBED  \\\n",
       "count  1.048575e+06  1.048575e+06  1.048575e+06  1.048575e+06  1.048575e+06   \n",
       "mean   1.632194e+00  8.980565e+00  1.499259e+00  1.190765e+00  7.952288e+01   \n",
       "std    4.822084e-01  3.723278e+00  4.999997e-01  3.929041e-01  3.686889e+01   \n",
       "min    1.000000e+00  1.000000e+00  1.000000e+00  1.000000e+00  1.000000e+00   \n",
       "25%    1.000000e+00  4.000000e+00  1.000000e+00  1.000000e+00  9.700000e+01   \n",
       "50%    2.000000e+00  1.200000e+01  1.000000e+00  1.000000e+00  9.700000e+01   \n",
       "75%    2.000000e+00  1.200000e+01  2.000000e+00  1.000000e+00  9.700000e+01   \n",
       "max    2.000000e+00  1.300000e+01  2.000000e+00  2.000000e+00  9.900000e+01   \n",
       "\n",
       "          PNEUMONIA           AGE      PREGNANT      DIABETES          COPD  \\\n",
       "count  1.048575e+06  1.048575e+06  1.048575e+06  1.048575e+06  1.048575e+06   \n",
       "mean   3.346831e+00  4.179410e+01  4.976558e+01  2.186404e+00  2.260569e+00   \n",
       "std    1.191288e+01  1.690739e+01  4.751073e+01  5.424242e+00  5.132258e+00   \n",
       "min    1.000000e+00  0.000000e+00  1.000000e+00  1.000000e+00  1.000000e+00   \n",
       "25%    2.000000e+00  3.000000e+01  2.000000e+00  2.000000e+00  2.000000e+00   \n",
       "50%    2.000000e+00  4.000000e+01  9.700000e+01  2.000000e+00  2.000000e+00   \n",
       "75%    2.000000e+00  5.300000e+01  9.700000e+01  2.000000e+00  2.000000e+00   \n",
       "max    9.900000e+01  1.210000e+02  9.800000e+01  9.800000e+01  9.800000e+01   \n",
       "\n",
       "             ASTHMA       INMSUPR  HIPERTENSION  OTHER_DISEASE  \\\n",
       "count  1.048575e+06  1.048575e+06  1.048575e+06   1.048575e+06   \n",
       "mean   2.242626e+00  2.298132e+00  2.128989e+00   2.435143e+00   \n",
       "std    5.114089e+00  5.462843e+00  5.236397e+00   6.646676e+00   \n",
       "min    1.000000e+00  1.000000e+00  1.000000e+00   1.000000e+00   \n",
       "25%    2.000000e+00  2.000000e+00  2.000000e+00   2.000000e+00   \n",
       "50%    2.000000e+00  2.000000e+00  2.000000e+00   2.000000e+00   \n",
       "75%    2.000000e+00  2.000000e+00  2.000000e+00   2.000000e+00   \n",
       "max    9.800000e+01  9.800000e+01  9.800000e+01   9.800000e+01   \n",
       "\n",
       "       CARDIOVASCULAR       OBESITY  RENAL_CHRONIC       TOBACCO  \\\n",
       "count    1.048575e+06  1.048575e+06   1.048575e+06  1.048575e+06   \n",
       "mean     2.261810e+00  2.125176e+00   2.257180e+00  2.214333e+00   \n",
       "std      5.194850e+00  5.175445e+00   5.135354e+00  5.323097e+00   \n",
       "min      1.000000e+00  1.000000e+00   1.000000e+00  1.000000e+00   \n",
       "25%      2.000000e+00  2.000000e+00   2.000000e+00  2.000000e+00   \n",
       "50%      2.000000e+00  2.000000e+00   2.000000e+00  2.000000e+00   \n",
       "75%      2.000000e+00  2.000000e+00   2.000000e+00  2.000000e+00   \n",
       "max      9.800000e+01  9.800000e+01   9.800000e+01  9.800000e+01   \n",
       "\n",
       "       CLASIFFICATION_FINAL           ICU  \n",
       "count          1.048575e+06  1.048575e+06  \n",
       "mean           5.305653e+00  7.955397e+01  \n",
       "std            1.881165e+00  3.682307e+01  \n",
       "min            1.000000e+00  1.000000e+00  \n",
       "25%            3.000000e+00  9.700000e+01  \n",
       "50%            6.000000e+00  9.700000e+01  \n",
       "75%            7.000000e+00  9.700000e+01  \n",
       "max            7.000000e+00  9.900000e+01  "
      ]
     },
     "execution_count": 4,
     "metadata": {},
     "output_type": "execute_result"
    }
   ],
   "source": [
    "df.describe()"
   ]
  },
  {
   "cell_type": "markdown",
   "id": "832b302b",
   "metadata": {},
   "source": [
    "\n",
    "\n",
    "En primera instancia, observando la descripción del dataframe no soy capaz de sacar una conclusión. Por lo tanto procederé a crear la columna objetivo para obtener más información."
   ]
  },
  {
   "cell_type": "markdown",
   "id": "57f71360",
   "metadata": {},
   "source": [
    "**Creo la nueva columna surviving_patients** , donde 1 es que el paciente ha sobrevivido."
   ]
  },
  {
   "cell_type": "code",
   "execution_count": 5,
   "id": "e7b30a33",
   "metadata": {},
   "outputs": [
    {
     "name": "stdout",
     "output_type": "stream",
     "text": [
      "Número de pacientes sobrevivientes(target): 971633\n"
     ]
    }
   ],
   "source": [
    "df[\"surviving_patients\"] = df[\"DATE_DIED\"].apply(lambda x: 0 if x != \"9999-99-99\" else 1)\n",
    "pacientes_sobrevivientes = df[\"surviving_patients\"].value_counts()[1]\n",
    "\n",
    "\n",
    "print(\"Número de pacientes sobrevivientes(target):\", pacientes_sobrevivientes)"
   ]
  },
  {
   "cell_type": "code",
   "execution_count": 6,
   "id": "ff8d3833",
   "metadata": {},
   "outputs": [
    {
     "data": {
      "text/html": [
       "<div>\n",
       "<style scoped>\n",
       "    .dataframe tbody tr th:only-of-type {\n",
       "        vertical-align: middle;\n",
       "    }\n",
       "\n",
       "    .dataframe tbody tr th {\n",
       "        vertical-align: top;\n",
       "    }\n",
       "\n",
       "    .dataframe thead th {\n",
       "        text-align: right;\n",
       "    }\n",
       "</style>\n",
       "<table border=\"1\" class=\"dataframe\">\n",
       "  <thead>\n",
       "    <tr style=\"text-align: right;\">\n",
       "      <th></th>\n",
       "      <th>USMER</th>\n",
       "      <th>MEDICAL_UNIT</th>\n",
       "      <th>SEX</th>\n",
       "      <th>PATIENT_TYPE</th>\n",
       "      <th>DATE_DIED</th>\n",
       "      <th>INTUBED</th>\n",
       "      <th>PNEUMONIA</th>\n",
       "      <th>AGE</th>\n",
       "      <th>PREGNANT</th>\n",
       "      <th>DIABETES</th>\n",
       "      <th>COPD</th>\n",
       "      <th>ASTHMA</th>\n",
       "      <th>INMSUPR</th>\n",
       "      <th>HIPERTENSION</th>\n",
       "      <th>OTHER_DISEASE</th>\n",
       "      <th>CARDIOVASCULAR</th>\n",
       "      <th>OBESITY</th>\n",
       "      <th>RENAL_CHRONIC</th>\n",
       "      <th>TOBACCO</th>\n",
       "      <th>CLASIFFICATION_FINAL</th>\n",
       "      <th>ICU</th>\n",
       "      <th>surviving_patients</th>\n",
       "    </tr>\n",
       "  </thead>\n",
       "  <tbody>\n",
       "    <tr>\n",
       "      <th>0</th>\n",
       "      <td>2</td>\n",
       "      <td>1</td>\n",
       "      <td>1</td>\n",
       "      <td>1</td>\n",
       "      <td>03/05/2020</td>\n",
       "      <td>97</td>\n",
       "      <td>1</td>\n",
       "      <td>65</td>\n",
       "      <td>2</td>\n",
       "      <td>2</td>\n",
       "      <td>2</td>\n",
       "      <td>2</td>\n",
       "      <td>2</td>\n",
       "      <td>1</td>\n",
       "      <td>2</td>\n",
       "      <td>2</td>\n",
       "      <td>2</td>\n",
       "      <td>2</td>\n",
       "      <td>2</td>\n",
       "      <td>3</td>\n",
       "      <td>97</td>\n",
       "      <td>0</td>\n",
       "    </tr>\n",
       "    <tr>\n",
       "      <th>1</th>\n",
       "      <td>2</td>\n",
       "      <td>1</td>\n",
       "      <td>2</td>\n",
       "      <td>1</td>\n",
       "      <td>03/06/2020</td>\n",
       "      <td>97</td>\n",
       "      <td>1</td>\n",
       "      <td>72</td>\n",
       "      <td>97</td>\n",
       "      <td>2</td>\n",
       "      <td>2</td>\n",
       "      <td>2</td>\n",
       "      <td>2</td>\n",
       "      <td>1</td>\n",
       "      <td>2</td>\n",
       "      <td>2</td>\n",
       "      <td>1</td>\n",
       "      <td>1</td>\n",
       "      <td>2</td>\n",
       "      <td>5</td>\n",
       "      <td>97</td>\n",
       "      <td>0</td>\n",
       "    </tr>\n",
       "    <tr>\n",
       "      <th>2</th>\n",
       "      <td>2</td>\n",
       "      <td>1</td>\n",
       "      <td>2</td>\n",
       "      <td>2</td>\n",
       "      <td>09/06/2020</td>\n",
       "      <td>1</td>\n",
       "      <td>2</td>\n",
       "      <td>55</td>\n",
       "      <td>97</td>\n",
       "      <td>1</td>\n",
       "      <td>2</td>\n",
       "      <td>2</td>\n",
       "      <td>2</td>\n",
       "      <td>2</td>\n",
       "      <td>2</td>\n",
       "      <td>2</td>\n",
       "      <td>2</td>\n",
       "      <td>2</td>\n",
       "      <td>2</td>\n",
       "      <td>3</td>\n",
       "      <td>2</td>\n",
       "      <td>0</td>\n",
       "    </tr>\n",
       "    <tr>\n",
       "      <th>3</th>\n",
       "      <td>2</td>\n",
       "      <td>1</td>\n",
       "      <td>1</td>\n",
       "      <td>1</td>\n",
       "      <td>12/06/2020</td>\n",
       "      <td>97</td>\n",
       "      <td>2</td>\n",
       "      <td>53</td>\n",
       "      <td>2</td>\n",
       "      <td>2</td>\n",
       "      <td>2</td>\n",
       "      <td>2</td>\n",
       "      <td>2</td>\n",
       "      <td>2</td>\n",
       "      <td>2</td>\n",
       "      <td>2</td>\n",
       "      <td>2</td>\n",
       "      <td>2</td>\n",
       "      <td>2</td>\n",
       "      <td>7</td>\n",
       "      <td>97</td>\n",
       "      <td>0</td>\n",
       "    </tr>\n",
       "    <tr>\n",
       "      <th>4</th>\n",
       "      <td>2</td>\n",
       "      <td>1</td>\n",
       "      <td>2</td>\n",
       "      <td>1</td>\n",
       "      <td>21/06/2020</td>\n",
       "      <td>97</td>\n",
       "      <td>2</td>\n",
       "      <td>68</td>\n",
       "      <td>97</td>\n",
       "      <td>1</td>\n",
       "      <td>2</td>\n",
       "      <td>2</td>\n",
       "      <td>2</td>\n",
       "      <td>1</td>\n",
       "      <td>2</td>\n",
       "      <td>2</td>\n",
       "      <td>2</td>\n",
       "      <td>2</td>\n",
       "      <td>2</td>\n",
       "      <td>3</td>\n",
       "      <td>97</td>\n",
       "      <td>0</td>\n",
       "    </tr>\n",
       "    <tr>\n",
       "      <th>...</th>\n",
       "      <td>...</td>\n",
       "      <td>...</td>\n",
       "      <td>...</td>\n",
       "      <td>...</td>\n",
       "      <td>...</td>\n",
       "      <td>...</td>\n",
       "      <td>...</td>\n",
       "      <td>...</td>\n",
       "      <td>...</td>\n",
       "      <td>...</td>\n",
       "      <td>...</td>\n",
       "      <td>...</td>\n",
       "      <td>...</td>\n",
       "      <td>...</td>\n",
       "      <td>...</td>\n",
       "      <td>...</td>\n",
       "      <td>...</td>\n",
       "      <td>...</td>\n",
       "      <td>...</td>\n",
       "      <td>...</td>\n",
       "      <td>...</td>\n",
       "      <td>...</td>\n",
       "    </tr>\n",
       "    <tr>\n",
       "      <th>1048570</th>\n",
       "      <td>2</td>\n",
       "      <td>13</td>\n",
       "      <td>2</td>\n",
       "      <td>1</td>\n",
       "      <td>9999-99-99</td>\n",
       "      <td>97</td>\n",
       "      <td>2</td>\n",
       "      <td>40</td>\n",
       "      <td>97</td>\n",
       "      <td>2</td>\n",
       "      <td>2</td>\n",
       "      <td>2</td>\n",
       "      <td>2</td>\n",
       "      <td>2</td>\n",
       "      <td>2</td>\n",
       "      <td>2</td>\n",
       "      <td>2</td>\n",
       "      <td>2</td>\n",
       "      <td>2</td>\n",
       "      <td>7</td>\n",
       "      <td>97</td>\n",
       "      <td>1</td>\n",
       "    </tr>\n",
       "    <tr>\n",
       "      <th>1048571</th>\n",
       "      <td>1</td>\n",
       "      <td>13</td>\n",
       "      <td>2</td>\n",
       "      <td>2</td>\n",
       "      <td>9999-99-99</td>\n",
       "      <td>2</td>\n",
       "      <td>2</td>\n",
       "      <td>51</td>\n",
       "      <td>97</td>\n",
       "      <td>2</td>\n",
       "      <td>2</td>\n",
       "      <td>2</td>\n",
       "      <td>2</td>\n",
       "      <td>1</td>\n",
       "      <td>2</td>\n",
       "      <td>2</td>\n",
       "      <td>2</td>\n",
       "      <td>2</td>\n",
       "      <td>2</td>\n",
       "      <td>7</td>\n",
       "      <td>2</td>\n",
       "      <td>1</td>\n",
       "    </tr>\n",
       "    <tr>\n",
       "      <th>1048572</th>\n",
       "      <td>2</td>\n",
       "      <td>13</td>\n",
       "      <td>2</td>\n",
       "      <td>1</td>\n",
       "      <td>9999-99-99</td>\n",
       "      <td>97</td>\n",
       "      <td>2</td>\n",
       "      <td>55</td>\n",
       "      <td>97</td>\n",
       "      <td>2</td>\n",
       "      <td>2</td>\n",
       "      <td>2</td>\n",
       "      <td>2</td>\n",
       "      <td>2</td>\n",
       "      <td>2</td>\n",
       "      <td>2</td>\n",
       "      <td>2</td>\n",
       "      <td>2</td>\n",
       "      <td>2</td>\n",
       "      <td>7</td>\n",
       "      <td>97</td>\n",
       "      <td>1</td>\n",
       "    </tr>\n",
       "    <tr>\n",
       "      <th>1048573</th>\n",
       "      <td>2</td>\n",
       "      <td>13</td>\n",
       "      <td>2</td>\n",
       "      <td>1</td>\n",
       "      <td>9999-99-99</td>\n",
       "      <td>97</td>\n",
       "      <td>2</td>\n",
       "      <td>28</td>\n",
       "      <td>97</td>\n",
       "      <td>2</td>\n",
       "      <td>2</td>\n",
       "      <td>2</td>\n",
       "      <td>2</td>\n",
       "      <td>2</td>\n",
       "      <td>2</td>\n",
       "      <td>2</td>\n",
       "      <td>2</td>\n",
       "      <td>2</td>\n",
       "      <td>2</td>\n",
       "      <td>7</td>\n",
       "      <td>97</td>\n",
       "      <td>1</td>\n",
       "    </tr>\n",
       "    <tr>\n",
       "      <th>1048574</th>\n",
       "      <td>2</td>\n",
       "      <td>13</td>\n",
       "      <td>2</td>\n",
       "      <td>1</td>\n",
       "      <td>9999-99-99</td>\n",
       "      <td>97</td>\n",
       "      <td>2</td>\n",
       "      <td>52</td>\n",
       "      <td>97</td>\n",
       "      <td>2</td>\n",
       "      <td>2</td>\n",
       "      <td>2</td>\n",
       "      <td>2</td>\n",
       "      <td>2</td>\n",
       "      <td>2</td>\n",
       "      <td>2</td>\n",
       "      <td>2</td>\n",
       "      <td>2</td>\n",
       "      <td>2</td>\n",
       "      <td>7</td>\n",
       "      <td>97</td>\n",
       "      <td>1</td>\n",
       "    </tr>\n",
       "  </tbody>\n",
       "</table>\n",
       "<p>1048575 rows × 22 columns</p>\n",
       "</div>"
      ],
      "text/plain": [
       "         USMER  MEDICAL_UNIT  SEX  PATIENT_TYPE   DATE_DIED  INTUBED  \\\n",
       "0            2             1    1             1  03/05/2020       97   \n",
       "1            2             1    2             1  03/06/2020       97   \n",
       "2            2             1    2             2  09/06/2020        1   \n",
       "3            2             1    1             1  12/06/2020       97   \n",
       "4            2             1    2             1  21/06/2020       97   \n",
       "...        ...           ...  ...           ...         ...      ...   \n",
       "1048570      2            13    2             1  9999-99-99       97   \n",
       "1048571      1            13    2             2  9999-99-99        2   \n",
       "1048572      2            13    2             1  9999-99-99       97   \n",
       "1048573      2            13    2             1  9999-99-99       97   \n",
       "1048574      2            13    2             1  9999-99-99       97   \n",
       "\n",
       "         PNEUMONIA  AGE  PREGNANT  DIABETES  COPD  ASTHMA  INMSUPR  \\\n",
       "0                1   65         2         2     2       2        2   \n",
       "1                1   72        97         2     2       2        2   \n",
       "2                2   55        97         1     2       2        2   \n",
       "3                2   53         2         2     2       2        2   \n",
       "4                2   68        97         1     2       2        2   \n",
       "...            ...  ...       ...       ...   ...     ...      ...   \n",
       "1048570          2   40        97         2     2       2        2   \n",
       "1048571          2   51        97         2     2       2        2   \n",
       "1048572          2   55        97         2     2       2        2   \n",
       "1048573          2   28        97         2     2       2        2   \n",
       "1048574          2   52        97         2     2       2        2   \n",
       "\n",
       "         HIPERTENSION  OTHER_DISEASE  CARDIOVASCULAR  OBESITY  RENAL_CHRONIC  \\\n",
       "0                   1              2               2        2              2   \n",
       "1                   1              2               2        1              1   \n",
       "2                   2              2               2        2              2   \n",
       "3                   2              2               2        2              2   \n",
       "4                   1              2               2        2              2   \n",
       "...               ...            ...             ...      ...            ...   \n",
       "1048570             2              2               2        2              2   \n",
       "1048571             1              2               2        2              2   \n",
       "1048572             2              2               2        2              2   \n",
       "1048573             2              2               2        2              2   \n",
       "1048574             2              2               2        2              2   \n",
       "\n",
       "         TOBACCO  CLASIFFICATION_FINAL  ICU  surviving_patients  \n",
       "0              2                     3   97                   0  \n",
       "1              2                     5   97                   0  \n",
       "2              2                     3    2                   0  \n",
       "3              2                     7   97                   0  \n",
       "4              2                     3   97                   0  \n",
       "...          ...                   ...  ...                 ...  \n",
       "1048570        2                     7   97                   1  \n",
       "1048571        2                     7    2                   1  \n",
       "1048572        2                     7   97                   1  \n",
       "1048573        2                     7   97                   1  \n",
       "1048574        2                     7   97                   1  \n",
       "\n",
       "[1048575 rows x 22 columns]"
      ]
     },
     "execution_count": 6,
     "metadata": {},
     "output_type": "execute_result"
    }
   ],
   "source": [
    "df "
   ]
  },
  {
   "cell_type": "markdown",
   "id": "f8e8fbfa",
   "metadata": {},
   "source": [
    "Uso df asecas, en vez de .head() porque se muestran tanto las 5 primeras filas como las 5 finales, y se puede apreciar ambos valores de la nueva columna"
   ]
  },
  {
   "cell_type": "markdown",
   "id": "79e66aae",
   "metadata": {},
   "source": [
    "**Convierto los datos booleanos del dataframe con valores  2 y 1 a 0 y 1** , para intentar tener todos los datos en la misma escala, ya que por norma general los datos booleanos son representados como en surviving_patients."
   ]
  },
  {
   "cell_type": "code",
   "execution_count": 7,
   "id": "45ecd0a1",
   "metadata": {},
   "outputs": [],
   "source": [
    "# Excluyo las columnas CLASIFICATION_FINAL Y AGE ya que no son booleanas.\n",
    "columnas_excluir = ['CLASIFFICATION_FINAL','AGE']\n",
    "\n",
    "# Reemplazo todos los valores 2 por 0 en las columnas excepto las excluidas\n",
    "df[df.columns.difference(columnas_excluir)] = df[df.columns.difference(columnas_excluir)].replace(2, 0)"
   ]
  },
  {
   "cell_type": "code",
   "execution_count": 8,
   "id": "1088adc7",
   "metadata": {},
   "outputs": [
    {
     "data": {
      "text/html": [
       "<div>\n",
       "<style scoped>\n",
       "    .dataframe tbody tr th:only-of-type {\n",
       "        vertical-align: middle;\n",
       "    }\n",
       "\n",
       "    .dataframe tbody tr th {\n",
       "        vertical-align: top;\n",
       "    }\n",
       "\n",
       "    .dataframe thead th {\n",
       "        text-align: right;\n",
       "    }\n",
       "</style>\n",
       "<table border=\"1\" class=\"dataframe\">\n",
       "  <thead>\n",
       "    <tr style=\"text-align: right;\">\n",
       "      <th></th>\n",
       "      <th>USMER</th>\n",
       "      <th>MEDICAL_UNIT</th>\n",
       "      <th>SEX</th>\n",
       "      <th>PATIENT_TYPE</th>\n",
       "      <th>DATE_DIED</th>\n",
       "      <th>INTUBED</th>\n",
       "      <th>PNEUMONIA</th>\n",
       "      <th>AGE</th>\n",
       "      <th>PREGNANT</th>\n",
       "      <th>DIABETES</th>\n",
       "      <th>COPD</th>\n",
       "      <th>ASTHMA</th>\n",
       "      <th>INMSUPR</th>\n",
       "      <th>HIPERTENSION</th>\n",
       "      <th>OTHER_DISEASE</th>\n",
       "      <th>CARDIOVASCULAR</th>\n",
       "      <th>OBESITY</th>\n",
       "      <th>RENAL_CHRONIC</th>\n",
       "      <th>TOBACCO</th>\n",
       "      <th>CLASIFFICATION_FINAL</th>\n",
       "      <th>ICU</th>\n",
       "      <th>surviving_patients</th>\n",
       "    </tr>\n",
       "  </thead>\n",
       "  <tbody>\n",
       "    <tr>\n",
       "      <th>0</th>\n",
       "      <td>0</td>\n",
       "      <td>1</td>\n",
       "      <td>1</td>\n",
       "      <td>1</td>\n",
       "      <td>03/05/2020</td>\n",
       "      <td>97</td>\n",
       "      <td>1</td>\n",
       "      <td>65</td>\n",
       "      <td>0</td>\n",
       "      <td>0</td>\n",
       "      <td>0</td>\n",
       "      <td>0</td>\n",
       "      <td>0</td>\n",
       "      <td>1</td>\n",
       "      <td>0</td>\n",
       "      <td>0</td>\n",
       "      <td>0</td>\n",
       "      <td>0</td>\n",
       "      <td>0</td>\n",
       "      <td>3</td>\n",
       "      <td>97</td>\n",
       "      <td>0</td>\n",
       "    </tr>\n",
       "    <tr>\n",
       "      <th>1</th>\n",
       "      <td>0</td>\n",
       "      <td>1</td>\n",
       "      <td>0</td>\n",
       "      <td>1</td>\n",
       "      <td>03/06/2020</td>\n",
       "      <td>97</td>\n",
       "      <td>1</td>\n",
       "      <td>72</td>\n",
       "      <td>97</td>\n",
       "      <td>0</td>\n",
       "      <td>0</td>\n",
       "      <td>0</td>\n",
       "      <td>0</td>\n",
       "      <td>1</td>\n",
       "      <td>0</td>\n",
       "      <td>0</td>\n",
       "      <td>1</td>\n",
       "      <td>1</td>\n",
       "      <td>0</td>\n",
       "      <td>5</td>\n",
       "      <td>97</td>\n",
       "      <td>0</td>\n",
       "    </tr>\n",
       "    <tr>\n",
       "      <th>2</th>\n",
       "      <td>0</td>\n",
       "      <td>1</td>\n",
       "      <td>0</td>\n",
       "      <td>0</td>\n",
       "      <td>09/06/2020</td>\n",
       "      <td>1</td>\n",
       "      <td>0</td>\n",
       "      <td>55</td>\n",
       "      <td>97</td>\n",
       "      <td>1</td>\n",
       "      <td>0</td>\n",
       "      <td>0</td>\n",
       "      <td>0</td>\n",
       "      <td>0</td>\n",
       "      <td>0</td>\n",
       "      <td>0</td>\n",
       "      <td>0</td>\n",
       "      <td>0</td>\n",
       "      <td>0</td>\n",
       "      <td>3</td>\n",
       "      <td>0</td>\n",
       "      <td>0</td>\n",
       "    </tr>\n",
       "    <tr>\n",
       "      <th>3</th>\n",
       "      <td>0</td>\n",
       "      <td>1</td>\n",
       "      <td>1</td>\n",
       "      <td>1</td>\n",
       "      <td>12/06/2020</td>\n",
       "      <td>97</td>\n",
       "      <td>0</td>\n",
       "      <td>53</td>\n",
       "      <td>0</td>\n",
       "      <td>0</td>\n",
       "      <td>0</td>\n",
       "      <td>0</td>\n",
       "      <td>0</td>\n",
       "      <td>0</td>\n",
       "      <td>0</td>\n",
       "      <td>0</td>\n",
       "      <td>0</td>\n",
       "      <td>0</td>\n",
       "      <td>0</td>\n",
       "      <td>7</td>\n",
       "      <td>97</td>\n",
       "      <td>0</td>\n",
       "    </tr>\n",
       "    <tr>\n",
       "      <th>4</th>\n",
       "      <td>0</td>\n",
       "      <td>1</td>\n",
       "      <td>0</td>\n",
       "      <td>1</td>\n",
       "      <td>21/06/2020</td>\n",
       "      <td>97</td>\n",
       "      <td>0</td>\n",
       "      <td>68</td>\n",
       "      <td>97</td>\n",
       "      <td>1</td>\n",
       "      <td>0</td>\n",
       "      <td>0</td>\n",
       "      <td>0</td>\n",
       "      <td>1</td>\n",
       "      <td>0</td>\n",
       "      <td>0</td>\n",
       "      <td>0</td>\n",
       "      <td>0</td>\n",
       "      <td>0</td>\n",
       "      <td>3</td>\n",
       "      <td>97</td>\n",
       "      <td>0</td>\n",
       "    </tr>\n",
       "  </tbody>\n",
       "</table>\n",
       "</div>"
      ],
      "text/plain": [
       "   USMER  MEDICAL_UNIT  SEX  PATIENT_TYPE   DATE_DIED  INTUBED  PNEUMONIA  \\\n",
       "0      0             1    1             1  03/05/2020       97          1   \n",
       "1      0             1    0             1  03/06/2020       97          1   \n",
       "2      0             1    0             0  09/06/2020        1          0   \n",
       "3      0             1    1             1  12/06/2020       97          0   \n",
       "4      0             1    0             1  21/06/2020       97          0   \n",
       "\n",
       "   AGE  PREGNANT  DIABETES  COPD  ASTHMA  INMSUPR  HIPERTENSION  \\\n",
       "0   65         0         0     0       0        0             1   \n",
       "1   72        97         0     0       0        0             1   \n",
       "2   55        97         1     0       0        0             0   \n",
       "3   53         0         0     0       0        0             0   \n",
       "4   68        97         1     0       0        0             1   \n",
       "\n",
       "   OTHER_DISEASE  CARDIOVASCULAR  OBESITY  RENAL_CHRONIC  TOBACCO  \\\n",
       "0              0               0        0              0        0   \n",
       "1              0               0        1              1        0   \n",
       "2              0               0        0              0        0   \n",
       "3              0               0        0              0        0   \n",
       "4              0               0        0              0        0   \n",
       "\n",
       "   CLASIFFICATION_FINAL  ICU  surviving_patients  \n",
       "0                     3   97                   0  \n",
       "1                     5   97                   0  \n",
       "2                     3    0                   0  \n",
       "3                     7   97                   0  \n",
       "4                     3   97                   0  "
      ]
     },
     "execution_count": 8,
     "metadata": {},
     "output_type": "execute_result"
    }
   ],
   "source": [
    "df.head()"
   ]
  },
  {
   "cell_type": "markdown",
   "id": "4c71f4d4",
   "metadata": {},
   "source": [
    "## Valores Nulos"
   ]
  },
  {
   "cell_type": "code",
   "execution_count": 9,
   "id": "36ab3ffb",
   "metadata": {},
   "outputs": [
    {
     "name": "stdout",
     "output_type": "stream",
     "text": [
      "Columnas que continen valores 97 99:\n",
      "\n",
      "Columna: USMER - Contiene: 0 Nulos\n",
      "Columna: MEDICAL_UNIT - Contiene: 0 Nulos\n",
      "Columna: SEX - Contiene: 0 Nulos\n",
      "Columna: PATIENT_TYPE - Contiene: 0 Nulos\n",
      "Columna: DATE_DIED - Contiene: 0 Nulos\n",
      "Columna: INTUBED - Contiene: 855869 Nulos\n",
      "Columna: PNEUMONIA - Contiene: 16003 Nulos\n",
      "Columna: AGE - Contiene: 221 Nulos\n",
      "Columna: PREGNANT - Contiene: 523511 Nulos\n",
      "Columna: DIABETES - Contiene: 0 Nulos\n",
      "Columna: COPD - Contiene: 0 Nulos\n",
      "Columna: ASTHMA - Contiene: 0 Nulos\n",
      "Columna: INMSUPR - Contiene: 0 Nulos\n",
      "Columna: HIPERTENSION - Contiene: 0 Nulos\n",
      "Columna: OTHER_DISEASE - Contiene: 0 Nulos\n",
      "Columna: CARDIOVASCULAR - Contiene: 0 Nulos\n",
      "Columna: OBESITY - Contiene: 0 Nulos\n",
      "Columna: RENAL_CHRONIC - Contiene: 0 Nulos\n",
      "Columna: TOBACCO - Contiene: 0 Nulos\n",
      "Columna: CLASIFFICATION_FINAL - Contiene: 0 Nulos\n",
      "Columna: ICU - Contiene: 856032 Nulos\n",
      "Columna: surviving_patients - Contiene: 0 Nulos\n"
     ]
    }
   ],
   "source": [
    "print(f\"Columnas que continen valores 97 99:\\n\")\n",
    "for columna in df.columns:\n",
    "    # Filtrar las celdas que contienen 97 o 99 en la columna actual\n",
    "    valores_97_99 = df[columna].isin([97, 99])\n",
    "    # Contar la cantidad de valores 97 o 99 en la columna actual\n",
    "    cuenta = valores_97_99.sum()\n",
    "    # Imprimir el nombre de la columna y la cuenta de valores\n",
    "    print(f\"Columna: {columna} - Contiene: {cuenta} Nulos\")"
   ]
  },
  {
   "cell_type": "markdown",
   "id": "2b2eaab4",
   "metadata": {},
   "source": [
    "Con este for podemos sacar una lista real de valores nulos para poder tratar los nulos\n",
    "\n",
    "*   INTUBED - Contiene: 855869 Nulos\n",
    "*   PNEUMONIA - Contiene: 16003 Nulos\n",
    "*   AGE - Contiene: 221 Nulos\n",
    "*   PREGNANT - Contiene: 523511 Nulos\n",
    "*   ICU - Contiene: 856032 Nulos\n",
    "\n",
    "Para mi análisis considero  **eliminar la columna INTUBED ,ICU**  , ya que a mi parecer son columnas con demasiados nulos y no creo que sean tan relevantes a la hora de entrenar.\n"
   ]
  },
  {
   "cell_type": "code",
   "execution_count": 10,
   "id": "74eb8084",
   "metadata": {},
   "outputs": [],
   "source": [
    "drop_cols = [\"DATE_DIED\",\"INTUBED\",\"ICU\"]\n",
    "df = df.drop(drop_cols, axis=1)"
   ]
  },
  {
   "cell_type": "code",
   "execution_count": 11,
   "id": "06033f00",
   "metadata": {},
   "outputs": [
    {
     "data": {
      "text/html": [
       "<div>\n",
       "<style scoped>\n",
       "    .dataframe tbody tr th:only-of-type {\n",
       "        vertical-align: middle;\n",
       "    }\n",
       "\n",
       "    .dataframe tbody tr th {\n",
       "        vertical-align: top;\n",
       "    }\n",
       "\n",
       "    .dataframe thead th {\n",
       "        text-align: right;\n",
       "    }\n",
       "</style>\n",
       "<table border=\"1\" class=\"dataframe\">\n",
       "  <thead>\n",
       "    <tr style=\"text-align: right;\">\n",
       "      <th></th>\n",
       "      <th>USMER</th>\n",
       "      <th>MEDICAL_UNIT</th>\n",
       "      <th>SEX</th>\n",
       "      <th>PATIENT_TYPE</th>\n",
       "      <th>PNEUMONIA</th>\n",
       "      <th>AGE</th>\n",
       "      <th>PREGNANT</th>\n",
       "      <th>DIABETES</th>\n",
       "      <th>COPD</th>\n",
       "      <th>ASTHMA</th>\n",
       "      <th>INMSUPR</th>\n",
       "      <th>HIPERTENSION</th>\n",
       "      <th>OTHER_DISEASE</th>\n",
       "      <th>CARDIOVASCULAR</th>\n",
       "      <th>OBESITY</th>\n",
       "      <th>RENAL_CHRONIC</th>\n",
       "      <th>TOBACCO</th>\n",
       "      <th>CLASIFFICATION_FINAL</th>\n",
       "      <th>surviving_patients</th>\n",
       "    </tr>\n",
       "  </thead>\n",
       "  <tbody>\n",
       "    <tr>\n",
       "      <th>0</th>\n",
       "      <td>0</td>\n",
       "      <td>1</td>\n",
       "      <td>1</td>\n",
       "      <td>1</td>\n",
       "      <td>1</td>\n",
       "      <td>65</td>\n",
       "      <td>0</td>\n",
       "      <td>0</td>\n",
       "      <td>0</td>\n",
       "      <td>0</td>\n",
       "      <td>0</td>\n",
       "      <td>1</td>\n",
       "      <td>0</td>\n",
       "      <td>0</td>\n",
       "      <td>0</td>\n",
       "      <td>0</td>\n",
       "      <td>0</td>\n",
       "      <td>3</td>\n",
       "      <td>0</td>\n",
       "    </tr>\n",
       "    <tr>\n",
       "      <th>1</th>\n",
       "      <td>0</td>\n",
       "      <td>1</td>\n",
       "      <td>0</td>\n",
       "      <td>1</td>\n",
       "      <td>1</td>\n",
       "      <td>72</td>\n",
       "      <td>97</td>\n",
       "      <td>0</td>\n",
       "      <td>0</td>\n",
       "      <td>0</td>\n",
       "      <td>0</td>\n",
       "      <td>1</td>\n",
       "      <td>0</td>\n",
       "      <td>0</td>\n",
       "      <td>1</td>\n",
       "      <td>1</td>\n",
       "      <td>0</td>\n",
       "      <td>5</td>\n",
       "      <td>0</td>\n",
       "    </tr>\n",
       "    <tr>\n",
       "      <th>2</th>\n",
       "      <td>0</td>\n",
       "      <td>1</td>\n",
       "      <td>0</td>\n",
       "      <td>0</td>\n",
       "      <td>0</td>\n",
       "      <td>55</td>\n",
       "      <td>97</td>\n",
       "      <td>1</td>\n",
       "      <td>0</td>\n",
       "      <td>0</td>\n",
       "      <td>0</td>\n",
       "      <td>0</td>\n",
       "      <td>0</td>\n",
       "      <td>0</td>\n",
       "      <td>0</td>\n",
       "      <td>0</td>\n",
       "      <td>0</td>\n",
       "      <td>3</td>\n",
       "      <td>0</td>\n",
       "    </tr>\n",
       "    <tr>\n",
       "      <th>3</th>\n",
       "      <td>0</td>\n",
       "      <td>1</td>\n",
       "      <td>1</td>\n",
       "      <td>1</td>\n",
       "      <td>0</td>\n",
       "      <td>53</td>\n",
       "      <td>0</td>\n",
       "      <td>0</td>\n",
       "      <td>0</td>\n",
       "      <td>0</td>\n",
       "      <td>0</td>\n",
       "      <td>0</td>\n",
       "      <td>0</td>\n",
       "      <td>0</td>\n",
       "      <td>0</td>\n",
       "      <td>0</td>\n",
       "      <td>0</td>\n",
       "      <td>7</td>\n",
       "      <td>0</td>\n",
       "    </tr>\n",
       "    <tr>\n",
       "      <th>4</th>\n",
       "      <td>0</td>\n",
       "      <td>1</td>\n",
       "      <td>0</td>\n",
       "      <td>1</td>\n",
       "      <td>0</td>\n",
       "      <td>68</td>\n",
       "      <td>97</td>\n",
       "      <td>1</td>\n",
       "      <td>0</td>\n",
       "      <td>0</td>\n",
       "      <td>0</td>\n",
       "      <td>1</td>\n",
       "      <td>0</td>\n",
       "      <td>0</td>\n",
       "      <td>0</td>\n",
       "      <td>0</td>\n",
       "      <td>0</td>\n",
       "      <td>3</td>\n",
       "      <td>0</td>\n",
       "    </tr>\n",
       "  </tbody>\n",
       "</table>\n",
       "</div>"
      ],
      "text/plain": [
       "   USMER  MEDICAL_UNIT  SEX  PATIENT_TYPE  PNEUMONIA  AGE  PREGNANT  DIABETES  \\\n",
       "0      0             1    1             1          1   65         0         0   \n",
       "1      0             1    0             1          1   72        97         0   \n",
       "2      0             1    0             0          0   55        97         1   \n",
       "3      0             1    1             1          0   53         0         0   \n",
       "4      0             1    0             1          0   68        97         1   \n",
       "\n",
       "   COPD  ASTHMA  INMSUPR  HIPERTENSION  OTHER_DISEASE  CARDIOVASCULAR  \\\n",
       "0     0       0        0             1              0               0   \n",
       "1     0       0        0             1              0               0   \n",
       "2     0       0        0             0              0               0   \n",
       "3     0       0        0             0              0               0   \n",
       "4     0       0        0             1              0               0   \n",
       "\n",
       "   OBESITY  RENAL_CHRONIC  TOBACCO  CLASIFFICATION_FINAL  surviving_patients  \n",
       "0        0              0        0                     3                   0  \n",
       "1        1              1        0                     5                   0  \n",
       "2        0              0        0                     3                   0  \n",
       "3        0              0        0                     7                   0  \n",
       "4        0              0        0                     3                   0  "
      ]
     },
     "execution_count": 11,
     "metadata": {},
     "output_type": "execute_result"
    }
   ],
   "source": [
    "df.head()"
   ]
  },
  {
   "cell_type": "code",
   "execution_count": 12,
   "id": "88d1f207",
   "metadata": {},
   "outputs": [
    {
     "data": {
      "image/png": "[encoded data removed]",
      "text/plain": [
       "<Figure size 432x288 with 1 Axes>"
      ]
     },
     "metadata": {
      "needs_background": "light"
     },
     "output_type": "display_data"
    }
   ],
   "source": [
    "# Contar los valores de la columna \"PNEUMONIA\"\n",
    "conteo_pneumonia = df['PNEUMONIA'].value_counts()\n",
    "\n",
    "# Crear el gráfico de barras utilizando Seaborn\n",
    "sns.barplot(x=conteo_pneumonia.index, y=conteo_pneumonia.values)\n",
    "\n",
    "# Agregar etiquetas y título al gráfico\n",
    "plt.xlabel('PNEUMONIA')\n",
    "plt.ylabel('Cantidad')\n",
    "plt.title('Conteo de valores de PNEUMONIA')\n",
    "\n",
    "# Mostrar el gráfico\n",
    "plt.show()"
   ]
  },
  {
   "cell_type": "markdown",
   "id": "af9b8c43",
   "metadata": {},
   "source": [
    "Con este gráfico podemos deducir que son pocos los pacientes que no han rellenado el campo de pneumonia."
   ]
  },
  {
   "cell_type": "code",
   "execution_count": 13,
   "id": "771f03d1",
   "metadata": {},
   "outputs": [
    {
     "data": {
      "image/png": "[encoded data removed]",
      "text/plain": [
       "<Figure size 576x432 with 1 Axes>"
      ]
     },
     "metadata": {},
     "output_type": "display_data"
    }
   ],
   "source": [
    "# Contar la distribución de pacientes con y sin neumonía\n",
    "pneumonia_counts = df['PNEUMONIA'].value_counts()\n",
    "\n",
    "# Crear el gráfico de pastel\n",
    "plt.figure(figsize=(8, 6))\n",
    "plt.title('Distribución de pacientes con y sin neumonía')\n",
    "plt.pie(pneumonia_counts, labels=pneumonia_counts.index.map({0: 'Sin neumonía', 1: 'Con neumonía'}), autopct='%1.1f%%', startangle=90, colors=['#ff9999', '#66b3ff'])\n",
    "plt.axis('equal')\n",
    "\n",
    "plt.show()\n"
   ]
  },
  {
   "cell_type": "markdown",
   "id": "1dd4db86",
   "metadata": {},
   "source": [
    "Observamos como los valores nulos suponen un 1,5% ,dado que la mayoria son sin neumonia , decido establecer ese 1,5% a pacientes sin neuomonia."
   ]
  },
  {
   "cell_type": "code",
   "execution_count": 14,
   "id": "2c0e3b8c",
   "metadata": {},
   "outputs": [],
   "source": [
    "df['PNEUMONIA'] = df['PNEUMONIA'].replace([97, 99], 0)"
   ]
  },
  {
   "cell_type": "code",
   "execution_count": 15,
   "id": "58180d20",
   "metadata": {},
   "outputs": [
    {
     "data": {
      "text/plain": [
       "array([1, 0])"
      ]
     },
     "execution_count": 15,
     "metadata": {},
     "output_type": "execute_result"
    }
   ],
   "source": [
    "df['PNEUMONIA'].unique()"
   ]
  },
  {
   "cell_type": "code",
   "execution_count": 16,
   "id": "89c65f0b",
   "metadata": {},
   "outputs": [
    {
     "name": "stdout",
     "output_type": "stream",
     "text": [
      "Columna: AGE - Contiene: 221\n",
      "Columna: PREGNANT - Contiene: 523511\n"
     ]
    }
   ],
   "source": [
    "# Iterar sobre las columnas del dataframe\n",
    "for columna in df.columns:\n",
    "    # Filtrar las celdas que contienen 97 o 99 en la columna actual\n",
    "    valores_97_99 = df[columna].isin([97, 99])\n",
    "    # Contar la cantidad de valores 97 o 99 en la columna actual\n",
    "    cuenta = valores_97_99.sum()\n",
    "\n",
    "    # Verificar si la columna tiene valores nulos\n",
    "    if cuenta > 0:\n",
    "        # Imprimir el nombre de la columna y la cuenta de valores\n",
    "        print(f\"Columna: {columna} - Contiene: {cuenta}\")"
   ]
  },
  {
   "cell_type": "markdown",
   "id": "f792e4d5",
   "metadata": {},
   "source": [
    "Tras comprobar que el cambio se ha efectuado correctamente. continuo con los valores nulos de la columna PREGNANT"
   ]
  },
  {
   "cell_type": "code",
   "execution_count": 17,
   "id": "ac9b1ec7",
   "metadata": {},
   "outputs": [
    {
     "data": {
      "image/png": "[encoded data removed]",
      "text/plain": [
       "<Figure size 432x288 with 1 Axes>"
      ]
     },
     "metadata": {
      "needs_background": "light"
     },
     "output_type": "display_data"
    }
   ],
   "source": [
    "import seaborn as sns\n",
    "import matplotlib.pyplot as plt\n",
    "\n",
    "# Crear un gráfico de barras para la variable \"PREGNANT\" en relación a la variable \"SEX\"\n",
    "sns.countplot(data=df, x='PREGNANT', hue='SEX')\n",
    "\n",
    "# Configurar etiquetas y título del gráfico\n",
    "plt.xlabel('Embarazada')\n",
    "plt.ylabel('Cantidad')\n",
    "plt.title('Distribución de embarazadas según el sexo')\n",
    "\n",
    "# Mostrar el gráfico\n",
    "plt.show()"
   ]
  },
  {
   "cell_type": "markdown",
   "id": "3976ef2f",
   "metadata": {},
   "source": [
    "\n",
    "- Con este gráfico llegó a la conclusión de que en este caso, el valor 97 se corresponde con el sexo masculino, y decido sustituir dicho valor  97 por 0 para que no cuente como nulo y tampoco cuente como pregnant dado que son de sexo masculino.\n",
    "\n",
    "- Inesperadamente, tambien me doy cuenta de que los valores 97 y 99 no parecen ser los únicos nulos, así que tendré que tomar en cuenta tambien el 98. para este caso concreto en la columna pregnant, también lo pondre a valor 0."
   ]
  },
  {
   "cell_type": "code",
   "execution_count": 18,
   "id": "a8494a8f",
   "metadata": {},
   "outputs": [],
   "source": [
    "df.loc[(df['SEX'] == 0) & (df['PREGNANT'] == 97), 'PREGNANT'] = 0\n",
    "df.loc[(df['SEX'] == 0) & (df['PREGNANT'] == 99), 'PREGNANT'] = 0\n",
    "df.loc[(df['PREGNANT'] == 98), 'PREGNANT'] = 0"
   ]
  },
  {
   "cell_type": "code",
   "execution_count": 19,
   "id": "218f4bd0",
   "metadata": {},
   "outputs": [
    {
     "data": {
      "image/png": "[encoded data removed]",
      "text/plain": [
       "<Figure size 432x288 with 1 Axes>"
      ]
     },
     "metadata": {
      "needs_background": "light"
     },
     "output_type": "display_data"
    }
   ],
   "source": [
    "import seaborn as sns\n",
    "import matplotlib.pyplot as plt\n",
    "\n",
    "# Crear un gráfico de barras para la variable \"PREGNANT\" en relación a la variable \"SEX\"\n",
    "sns.countplot(data=df, x='PREGNANT', hue='SEX')\n",
    "\n",
    "# Configurar etiquetas y título del gráfico\n",
    "plt.xlabel('Embarazada')\n",
    "plt.ylabel('Cantidad')\n",
    "plt.title('Distribución de embarazadas según el sexo')\n",
    "\n",
    "# Mostrar el gráfico\n",
    "plt.show()"
   ]
  },
  {
   "cell_type": "markdown",
   "id": "06203da2",
   "metadata": {},
   "source": [
    "Despues de haber convertido los valores nulos, un vistazo a este gráfico me convenze de que el desvalanceo de esta columna es tan grande que no creo que aporte valor al análisis, por lo tanto voy a retirarla del dataframe."
   ]
  },
  {
   "cell_type": "code",
   "execution_count": 20,
   "id": "851c6c3a",
   "metadata": {},
   "outputs": [],
   "source": [
    "df = df.drop('PREGNANT', axis=1)"
   ]
  },
  {
   "cell_type": "code",
   "execution_count": 21,
   "id": "7b9ab0bc",
   "metadata": {},
   "outputs": [
    {
     "name": "stdout",
     "output_type": "stream",
     "text": [
      "Columnas que continen valores 97, 98 y 99:\n",
      "\n",
      "Columna: USMER - Contiene: 0 Nulos\n",
      "Columna: MEDICAL_UNIT - Contiene: 0 Nulos\n",
      "Columna: SEX - Contiene: 0 Nulos\n",
      "Columna: PATIENT_TYPE - Contiene: 0 Nulos\n",
      "Columna: PNEUMONIA - Contiene: 0 Nulos\n",
      "Columna: AGE - Contiene: 345 Nulos\n",
      "Columna: DIABETES - Contiene: 3338 Nulos\n",
      "Columna: COPD - Contiene: 3003 Nulos\n",
      "Columna: ASTHMA - Contiene: 2979 Nulos\n",
      "Columna: INMSUPR - Contiene: 3404 Nulos\n",
      "Columna: HIPERTENSION - Contiene: 3104 Nulos\n",
      "Columna: OTHER_DISEASE - Contiene: 5045 Nulos\n",
      "Columna: CARDIOVASCULAR - Contiene: 3076 Nulos\n",
      "Columna: OBESITY - Contiene: 3032 Nulos\n",
      "Columna: RENAL_CHRONIC - Contiene: 3006 Nulos\n",
      "Columna: TOBACCO - Contiene: 3220 Nulos\n",
      "Columna: CLASIFFICATION_FINAL - Contiene: 0 Nulos\n",
      "Columna: surviving_patients - Contiene: 0 Nulos\n"
     ]
    }
   ],
   "source": [
    "print(f\"Columnas que continen valores 97, 98 y 99:\\n\")\n",
    "for columna in df.columns:\n",
    "    # Filtrar las celdas que contienen 97 o 99 en la columna actual\n",
    "    valores_97_99 = df[columna].isin([97, 98, 99])\n",
    "    # Contar la cantidad de valores 97 o 99 en la columna actual\n",
    "    cuenta = valores_97_99.sum()\n",
    "    # Imprimir el nombre de la columna y la cuenta de valores\n",
    "    print(f\"Columna: {columna} - Contiene: {cuenta} Nulos\")"
   ]
  },
  {
   "cell_type": "markdown",
   "id": "933909d6",
   "metadata": {},
   "source": [
    "Voy a continuar con **AGE**, columna concreta en la que los valores considerados nulos (97, 98 y 99) podrían pasar por válidos, pero dado que es una cantidad relativamente pequeña (345), decido sustituirlos con la media de la columa."
   ]
  },
  {
   "cell_type": "code",
   "execution_count": 22,
   "id": "111ed2bd",
   "metadata": {},
   "outputs": [],
   "source": [
    "# Calcular la media de la columna \"AGE\" sin considerar los valores 97, 98  y 99\n",
    "age_mean = df.loc[(df['AGE'] != 97) & (df['AGE'] != 98) & (df['AGE'] != 99), 'AGE'].mean()\n",
    "\n",
    "# Reemplazar los valores 97, 98 y 99 por la media de la columna \"AGE\"\n",
    "df.loc[df['AGE'].isin([97, 98, 99]), 'AGE'] = age_mean"
   ]
  },
  {
   "cell_type": "code",
   "execution_count": 23,
   "id": "5d651086",
   "metadata": {},
   "outputs": [
    {
     "data": {
      "text/html": [
       "<div>\n",
       "<style scoped>\n",
       "    .dataframe tbody tr th:only-of-type {\n",
       "        vertical-align: middle;\n",
       "    }\n",
       "\n",
       "    .dataframe tbody tr th {\n",
       "        vertical-align: top;\n",
       "    }\n",
       "\n",
       "    .dataframe thead th {\n",
       "        text-align: right;\n",
       "    }\n",
       "</style>\n",
       "<table border=\"1\" class=\"dataframe\">\n",
       "  <thead>\n",
       "    <tr style=\"text-align: right;\">\n",
       "      <th></th>\n",
       "      <th>USMER</th>\n",
       "      <th>MEDICAL_UNIT</th>\n",
       "      <th>SEX</th>\n",
       "      <th>PATIENT_TYPE</th>\n",
       "      <th>PNEUMONIA</th>\n",
       "      <th>AGE</th>\n",
       "      <th>DIABETES</th>\n",
       "      <th>COPD</th>\n",
       "      <th>ASTHMA</th>\n",
       "      <th>INMSUPR</th>\n",
       "      <th>HIPERTENSION</th>\n",
       "      <th>OTHER_DISEASE</th>\n",
       "      <th>CARDIOVASCULAR</th>\n",
       "      <th>OBESITY</th>\n",
       "      <th>RENAL_CHRONIC</th>\n",
       "      <th>TOBACCO</th>\n",
       "      <th>CLASIFFICATION_FINAL</th>\n",
       "      <th>surviving_patients</th>\n",
       "    </tr>\n",
       "  </thead>\n",
       "  <tbody>\n",
       "    <tr>\n",
       "      <th>count</th>\n",
       "      <td>1.048575e+06</td>\n",
       "      <td>1.048575e+06</td>\n",
       "      <td>1.048575e+06</td>\n",
       "      <td>1.048575e+06</td>\n",
       "      <td>1.048575e+06</td>\n",
       "      <td>1.048575e+06</td>\n",
       "      <td>1.048575e+06</td>\n",
       "      <td>1.048575e+06</td>\n",
       "      <td>1.048575e+06</td>\n",
       "      <td>1.048575e+06</td>\n",
       "      <td>1.048575e+06</td>\n",
       "      <td>1.048575e+06</td>\n",
       "      <td>1.048575e+06</td>\n",
       "      <td>1.048575e+06</td>\n",
       "      <td>1.048575e+06</td>\n",
       "      <td>1.048575e+06</td>\n",
       "      <td>1.048575e+06</td>\n",
       "      <td>1.048575e+06</td>\n",
       "    </tr>\n",
       "    <tr>\n",
       "      <th>mean</th>\n",
       "      <td>3.678058e-01</td>\n",
       "      <td>8.980243e+00</td>\n",
       "      <td>5.007405e-01</td>\n",
       "      <td>8.092354e-01</td>\n",
       "      <td>1.335508e-01</td>\n",
       "      <td>4.177565e+01</td>\n",
       "      <td>4.311690e-01</td>\n",
       "      <td>2.950252e-01</td>\n",
       "      <td>3.085273e-01</td>\n",
       "      <td>3.316520e-01</td>\n",
       "      <td>4.452910e-01</td>\n",
       "      <td>4.982476e-01</td>\n",
       "      <td>3.072904e-01</td>\n",
       "      <td>4.357838e-01</td>\n",
       "      <td>2.989696e-01</td>\n",
       "      <td>3.814091e-01</td>\n",
       "      <td>5.305653e+00</td>\n",
       "      <td>9.266223e-01</td>\n",
       "    </tr>\n",
       "    <tr>\n",
       "      <th>std</th>\n",
       "      <td>4.822084e-01</td>\n",
       "      <td>3.723969e+00</td>\n",
       "      <td>4.999997e-01</td>\n",
       "      <td>3.929041e-01</td>\n",
       "      <td>3.401692e-01</td>\n",
       "      <td>1.687676e+01</td>\n",
       "      <td>5.523259e+00</td>\n",
       "      <td>5.237568e+00</td>\n",
       "      <td>5.217269e+00</td>\n",
       "      <td>5.575044e+00</td>\n",
       "      <td>5.327924e+00</td>\n",
       "      <td>6.781311e+00</td>\n",
       "      <td>5.300829e+00</td>\n",
       "      <td>5.266205e+00</td>\n",
       "      <td>5.240316e+00</td>\n",
       "      <td>5.424695e+00</td>\n",
       "      <td>1.881165e+00</td>\n",
       "      <td>2.607556e-01</td>\n",
       "    </tr>\n",
       "    <tr>\n",
       "      <th>min</th>\n",
       "      <td>0.000000e+00</td>\n",
       "      <td>0.000000e+00</td>\n",
       "      <td>0.000000e+00</td>\n",
       "      <td>0.000000e+00</td>\n",
       "      <td>0.000000e+00</td>\n",
       "      <td>0.000000e+00</td>\n",
       "      <td>0.000000e+00</td>\n",
       "      <td>0.000000e+00</td>\n",
       "      <td>0.000000e+00</td>\n",
       "      <td>0.000000e+00</td>\n",
       "      <td>0.000000e+00</td>\n",
       "      <td>0.000000e+00</td>\n",
       "      <td>0.000000e+00</td>\n",
       "      <td>0.000000e+00</td>\n",
       "      <td>0.000000e+00</td>\n",
       "      <td>0.000000e+00</td>\n",
       "      <td>1.000000e+00</td>\n",
       "      <td>0.000000e+00</td>\n",
       "    </tr>\n",
       "    <tr>\n",
       "      <th>25%</th>\n",
       "      <td>0.000000e+00</td>\n",
       "      <td>4.000000e+00</td>\n",
       "      <td>0.000000e+00</td>\n",
       "      <td>1.000000e+00</td>\n",
       "      <td>0.000000e+00</td>\n",
       "      <td>3.000000e+01</td>\n",
       "      <td>0.000000e+00</td>\n",
       "      <td>0.000000e+00</td>\n",
       "      <td>0.000000e+00</td>\n",
       "      <td>0.000000e+00</td>\n",
       "      <td>0.000000e+00</td>\n",
       "      <td>0.000000e+00</td>\n",
       "      <td>0.000000e+00</td>\n",
       "      <td>0.000000e+00</td>\n",
       "      <td>0.000000e+00</td>\n",
       "      <td>0.000000e+00</td>\n",
       "      <td>3.000000e+00</td>\n",
       "      <td>1.000000e+00</td>\n",
       "    </tr>\n",
       "    <tr>\n",
       "      <th>50%</th>\n",
       "      <td>0.000000e+00</td>\n",
       "      <td>1.200000e+01</td>\n",
       "      <td>1.000000e+00</td>\n",
       "      <td>1.000000e+00</td>\n",
       "      <td>0.000000e+00</td>\n",
       "      <td>4.000000e+01</td>\n",
       "      <td>0.000000e+00</td>\n",
       "      <td>0.000000e+00</td>\n",
       "      <td>0.000000e+00</td>\n",
       "      <td>0.000000e+00</td>\n",
       "      <td>0.000000e+00</td>\n",
       "      <td>0.000000e+00</td>\n",
       "      <td>0.000000e+00</td>\n",
       "      <td>0.000000e+00</td>\n",
       "      <td>0.000000e+00</td>\n",
       "      <td>0.000000e+00</td>\n",
       "      <td>6.000000e+00</td>\n",
       "      <td>1.000000e+00</td>\n",
       "    </tr>\n",
       "    <tr>\n",
       "      <th>75%</th>\n",
       "      <td>1.000000e+00</td>\n",
       "      <td>1.200000e+01</td>\n",
       "      <td>1.000000e+00</td>\n",
       "      <td>1.000000e+00</td>\n",
       "      <td>0.000000e+00</td>\n",
       "      <td>5.300000e+01</td>\n",
       "      <td>0.000000e+00</td>\n",
       "      <td>0.000000e+00</td>\n",
       "      <td>0.000000e+00</td>\n",
       "      <td>0.000000e+00</td>\n",
       "      <td>0.000000e+00</td>\n",
       "      <td>0.000000e+00</td>\n",
       "      <td>0.000000e+00</td>\n",
       "      <td>0.000000e+00</td>\n",
       "      <td>0.000000e+00</td>\n",
       "      <td>0.000000e+00</td>\n",
       "      <td>7.000000e+00</td>\n",
       "      <td>1.000000e+00</td>\n",
       "    </tr>\n",
       "    <tr>\n",
       "      <th>max</th>\n",
       "      <td>1.000000e+00</td>\n",
       "      <td>1.300000e+01</td>\n",
       "      <td>1.000000e+00</td>\n",
       "      <td>1.000000e+00</td>\n",
       "      <td>1.000000e+00</td>\n",
       "      <td>1.210000e+02</td>\n",
       "      <td>9.800000e+01</td>\n",
       "      <td>9.800000e+01</td>\n",
       "      <td>9.800000e+01</td>\n",
       "      <td>9.800000e+01</td>\n",
       "      <td>9.800000e+01</td>\n",
       "      <td>9.800000e+01</td>\n",
       "      <td>9.800000e+01</td>\n",
       "      <td>9.800000e+01</td>\n",
       "      <td>9.800000e+01</td>\n",
       "      <td>9.800000e+01</td>\n",
       "      <td>7.000000e+00</td>\n",
       "      <td>1.000000e+00</td>\n",
       "    </tr>\n",
       "  </tbody>\n",
       "</table>\n",
       "</div>"
      ],
      "text/plain": [
       "              USMER  MEDICAL_UNIT           SEX  PATIENT_TYPE     PNEUMONIA  \\\n",
       "count  1.048575e+06  1.048575e+06  1.048575e+06  1.048575e+06  1.048575e+06   \n",
       "mean   3.678058e-01  8.980243e+00  5.007405e-01  8.092354e-01  1.335508e-01   \n",
       "std    4.822084e-01  3.723969e+00  4.999997e-01  3.929041e-01  3.401692e-01   \n",
       "min    0.000000e+00  0.000000e+00  0.000000e+00  0.000000e+00  0.000000e+00   \n",
       "25%    0.000000e+00  4.000000e+00  0.000000e+00  1.000000e+00  0.000000e+00   \n",
       "50%    0.000000e+00  1.200000e+01  1.000000e+00  1.000000e+00  0.000000e+00   \n",
       "75%    1.000000e+00  1.200000e+01  1.000000e+00  1.000000e+00  0.000000e+00   \n",
       "max    1.000000e+00  1.300000e+01  1.000000e+00  1.000000e+00  1.000000e+00   \n",
       "\n",
       "                AGE      DIABETES          COPD        ASTHMA       INMSUPR  \\\n",
       "count  1.048575e+06  1.048575e+06  1.048575e+06  1.048575e+06  1.048575e+06   \n",
       "mean   4.177565e+01  4.311690e-01  2.950252e-01  3.085273e-01  3.316520e-01   \n",
       "std    1.687676e+01  5.523259e+00  5.237568e+00  5.217269e+00  5.575044e+00   \n",
       "min    0.000000e+00  0.000000e+00  0.000000e+00  0.000000e+00  0.000000e+00   \n",
       "25%    3.000000e+01  0.000000e+00  0.000000e+00  0.000000e+00  0.000000e+00   \n",
       "50%    4.000000e+01  0.000000e+00  0.000000e+00  0.000000e+00  0.000000e+00   \n",
       "75%    5.300000e+01  0.000000e+00  0.000000e+00  0.000000e+00  0.000000e+00   \n",
       "max    1.210000e+02  9.800000e+01  9.800000e+01  9.800000e+01  9.800000e+01   \n",
       "\n",
       "       HIPERTENSION  OTHER_DISEASE  CARDIOVASCULAR       OBESITY  \\\n",
       "count  1.048575e+06   1.048575e+06    1.048575e+06  1.048575e+06   \n",
       "mean   4.452910e-01   4.982476e-01    3.072904e-01  4.357838e-01   \n",
       "std    5.327924e+00   6.781311e+00    5.300829e+00  5.266205e+00   \n",
       "min    0.000000e+00   0.000000e+00    0.000000e+00  0.000000e+00   \n",
       "25%    0.000000e+00   0.000000e+00    0.000000e+00  0.000000e+00   \n",
       "50%    0.000000e+00   0.000000e+00    0.000000e+00  0.000000e+00   \n",
       "75%    0.000000e+00   0.000000e+00    0.000000e+00  0.000000e+00   \n",
       "max    9.800000e+01   9.800000e+01    9.800000e+01  9.800000e+01   \n",
       "\n",
       "       RENAL_CHRONIC       TOBACCO  CLASIFFICATION_FINAL  surviving_patients  \n",
       "count   1.048575e+06  1.048575e+06          1.048575e+06        1.048575e+06  \n",
       "mean    2.989696e-01  3.814091e-01          5.305653e+00        9.266223e-01  \n",
       "std     5.240316e+00  5.424695e+00          1.881165e+00        2.607556e-01  \n",
       "min     0.000000e+00  0.000000e+00          1.000000e+00        0.000000e+00  \n",
       "25%     0.000000e+00  0.000000e+00          3.000000e+00        1.000000e+00  \n",
       "50%     0.000000e+00  0.000000e+00          6.000000e+00        1.000000e+00  \n",
       "75%     0.000000e+00  0.000000e+00          7.000000e+00        1.000000e+00  \n",
       "max     9.800000e+01  9.800000e+01          7.000000e+00        1.000000e+00  "
      ]
     },
     "execution_count": 23,
     "metadata": {},
     "output_type": "execute_result"
    }
   ],
   "source": [
    "df.describe()"
   ]
  },
  {
   "cell_type": "code",
   "execution_count": 24,
   "id": "4da545c7",
   "metadata": {},
   "outputs": [
    {
     "name": "stdout",
     "output_type": "stream",
     "text": [
      "Columnas que continen valores 97 99:\n",
      "\n",
      "Columna: USMER - Contiene: 0 Nulos\n",
      "Columna: MEDICAL_UNIT - Contiene: 0 Nulos\n",
      "Columna: SEX - Contiene: 0 Nulos\n",
      "Columna: PATIENT_TYPE - Contiene: 0 Nulos\n",
      "Columna: PNEUMONIA - Contiene: 0 Nulos\n",
      "Columna: AGE - Contiene: 0 Nulos\n",
      "Columna: DIABETES - Contiene: 0 Nulos\n",
      "Columna: COPD - Contiene: 0 Nulos\n",
      "Columna: ASTHMA - Contiene: 0 Nulos\n",
      "Columna: INMSUPR - Contiene: 0 Nulos\n",
      "Columna: HIPERTENSION - Contiene: 0 Nulos\n",
      "Columna: OTHER_DISEASE - Contiene: 0 Nulos\n",
      "Columna: CARDIOVASCULAR - Contiene: 0 Nulos\n",
      "Columna: OBESITY - Contiene: 0 Nulos\n",
      "Columna: RENAL_CHRONIC - Contiene: 0 Nulos\n",
      "Columna: TOBACCO - Contiene: 0 Nulos\n",
      "Columna: CLASIFFICATION_FINAL - Contiene: 0 Nulos\n",
      "Columna: surviving_patients - Contiene: 0 Nulos\n"
     ]
    }
   ],
   "source": [
    "print(f\"Columnas que continen valores 97 99:\\n\")\n",
    "for columna in df.columns:\n",
    "    # Filtrar las celdas que contienen 97 o 99 en la columna actual\n",
    "    valores_97_99 = df[columna].isin([97, 99])\n",
    "    # Contar la cantidad de valores 97 o 99 en la columna actual\n",
    "    cuenta = valores_97_99.sum()\n",
    "    # Imprimir el nombre de la columna y la cuenta de valores\n",
    "    print(f\"Columna: {columna} - Contiene: {cuenta} Nulos\")"
   ]
  },
  {
   "cell_type": "markdown",
   "id": "3f7b0e8d",
   "metadata": {},
   "source": [
    "Compruebo que ya no quedan nulos con valor 97 y 99, y ahora solo me queda tratar aquellos con valor 98."
   ]
  },
  {
   "cell_type": "code",
   "execution_count": 25,
   "id": "b8ac8e67",
   "metadata": {},
   "outputs": [
    {
     "name": "stdout",
     "output_type": "stream",
     "text": [
      "Columnas que continen valores 98:\n",
      "\n",
      "Columna: USMER - Contiene: 0 Nulos\n",
      "Columna: MEDICAL_UNIT - Contiene: 0 Nulos\n",
      "Columna: SEX - Contiene: 0 Nulos\n",
      "Columna: PATIENT_TYPE - Contiene: 0 Nulos\n",
      "Columna: PNEUMONIA - Contiene: 0 Nulos\n",
      "Columna: AGE - Contiene: 0 Nulos\n",
      "Columna: DIABETES - Contiene: 3338 Nulos\n",
      "Columna: COPD - Contiene: 3003 Nulos\n",
      "Columna: ASTHMA - Contiene: 2979 Nulos\n",
      "Columna: INMSUPR - Contiene: 3404 Nulos\n",
      "Columna: HIPERTENSION - Contiene: 3104 Nulos\n",
      "Columna: OTHER_DISEASE - Contiene: 5045 Nulos\n",
      "Columna: CARDIOVASCULAR - Contiene: 3076 Nulos\n",
      "Columna: OBESITY - Contiene: 3032 Nulos\n",
      "Columna: RENAL_CHRONIC - Contiene: 3006 Nulos\n",
      "Columna: TOBACCO - Contiene: 3220 Nulos\n",
      "Columna: CLASIFFICATION_FINAL - Contiene: 0 Nulos\n",
      "Columna: surviving_patients - Contiene: 0 Nulos\n"
     ]
    }
   ],
   "source": [
    "print(f\"Columnas que continen valores 98:\\n\")\n",
    "for columna in df.columns:\n",
    "    # Filtrar las celdas que contienen 98 en la columna actual\n",
    "    valores_98 = df[columna].isin([98])\n",
    "    # Contar la cantidad de valores 98 en la columna actual\n",
    "    cuenta = valores_98.sum()\n",
    "    # Imprimir el nombre de la columna y la cuenta de valores\n",
    "    print(f\"Columna: {columna} - Contiene: {cuenta} Nulos\")"
   ]
  },
  {
   "cell_type": "code",
   "execution_count": 26,
   "id": "41591c16",
   "metadata": {},
   "outputs": [
    {
     "name": "stdout",
     "output_type": "stream",
     "text": [
      "Valores únicos en la columna MEDICAL_UNIT: [3, 4, 5, 6, 7, 8, 9, 10, 11, 12, 13]\n",
      "Valores únicos en la columna AGE: [65.0, 72.0, 55.0, 53.0, 68.0, 40.0, 64.0, 37.0, 25.0, 38.0, 24.0, 30.0, 48.0, 23.0, 80.0, 61.0, 54.0, 59.0, 45.0, 26.0, 32.0, 49.0, 39.0, 27.0, 57.0, 20.0, 56.0, 47.0, 50.0, 46.0, 43.0, 28.0, 33.0, 16.0, 62.0, 58.0, 36.0, 44.0, 66.0, 52.0, 51.0, 35.0, 19.0, 90.0, 34.0, 22.0, 29.0, 14.0, 31.0, 42.0, 15.0, 17.0, 41.0, 2.0, 10.0, 12.0, 13.0, 4.0, 7.0, 6.0, 8.0, 60.0, 5.0, 63.0, 75.0, 81.0, 67.0, 18.0, 70.0, 88.0, 85.0, 92.0, 73.0, 74.0, 78.0, 76.0, 82.0, 77.0, 86.0, 71.0, 95.0, 87.0, 83.0, 84.0, 79.0, 69.0, 89.0, 3.0, 41.775650382072634, 93.0, 100.0, 91.0, 21.0, 103.0, 11.0, 9.0, 94.0, 96.0, 101.0, 107.0, 102.0, 109.0, 119.0, 116.0, 105.0, 104.0, 111.0, 114.0, 120.0, 106.0, 108.0, 110.0, 118.0, 117.0, 121.0, 115.0, 113.0]\n",
      "Valores únicos en la columna DIABETES: [98]\n",
      "Valores únicos en la columna COPD: [98]\n",
      "Valores únicos en la columna ASTHMA: [98]\n",
      "Valores únicos en la columna INMSUPR: [98]\n",
      "Valores únicos en la columna HIPERTENSION: [98]\n",
      "Valores únicos en la columna OTHER_DISEASE: [98]\n",
      "Valores únicos en la columna CARDIOVASCULAR: [98]\n",
      "Valores únicos en la columna OBESITY: [98]\n",
      "Valores únicos en la columna RENAL_CHRONIC: [98]\n",
      "Valores únicos en la columna TOBACCO: [98]\n",
      "Valores únicos en la columna CLASIFFICATION_FINAL: [3, 5, 7, 6, 2, 4]\n"
     ]
    }
   ],
   "source": [
    "for columna in df.columns:\n",
    "    unique_values = df[columna].unique()\n",
    "    unique_values = [value for value in unique_values if value not in [0, 1]]\n",
    "    if len(unique_values) > 0:\n",
    "        print(f\"Valores únicos en la columna {columna}: {unique_values}\")"
   ]
  },
  {
   "cell_type": "code",
   "execution_count": 27,
   "id": "f291e3ad",
   "metadata": {},
   "outputs": [],
   "source": [
    "# Lista de columnas en las que se reemplazarán los valores\n",
    "columnas_reemplazo = ['COPD', 'DIABETES','ASTHMA','INMSUPR','HIPERTENSION',\n",
    "                      'OTHER_DISEASE','CARDIOVASCULAR','OBESITY','RENAL_CHRONIC',\n",
    "                      'TOBACCO']\n",
    "\n",
    "# Reemplazar los valores 98 por 0 en las columnas indicadas\n",
    "df[columnas_reemplazo] = df[columnas_reemplazo].replace(98, 0)"
   ]
  },
  {
   "cell_type": "markdown",
   "id": "88f9c142",
   "metadata": {},
   "source": [
    "Tras comprobar que columnas contenían valor 98 y que el resto de valores oscilaban entre 0 y 1, decidí convertir todos los 98 en 0."
   ]
  },
  {
   "cell_type": "code",
   "execution_count": 28,
   "id": "b78b3e69",
   "metadata": {},
   "outputs": [
    {
     "name": "stdout",
     "output_type": "stream",
     "text": [
      "Columnas que continen valores 97, 98 y 99:\n",
      "\n",
      "Columna: USMER - Contiene: 0 Nulos\n",
      "Columna: MEDICAL_UNIT - Contiene: 0 Nulos\n",
      "Columna: SEX - Contiene: 0 Nulos\n",
      "Columna: PATIENT_TYPE - Contiene: 0 Nulos\n",
      "Columna: PNEUMONIA - Contiene: 0 Nulos\n",
      "Columna: AGE - Contiene: 0 Nulos\n",
      "Columna: DIABETES - Contiene: 0 Nulos\n",
      "Columna: COPD - Contiene: 0 Nulos\n",
      "Columna: ASTHMA - Contiene: 0 Nulos\n",
      "Columna: INMSUPR - Contiene: 0 Nulos\n",
      "Columna: HIPERTENSION - Contiene: 0 Nulos\n",
      "Columna: OTHER_DISEASE - Contiene: 0 Nulos\n",
      "Columna: CARDIOVASCULAR - Contiene: 0 Nulos\n",
      "Columna: OBESITY - Contiene: 0 Nulos\n",
      "Columna: RENAL_CHRONIC - Contiene: 0 Nulos\n",
      "Columna: TOBACCO - Contiene: 0 Nulos\n",
      "Columna: CLASIFFICATION_FINAL - Contiene: 0 Nulos\n",
      "Columna: surviving_patients - Contiene: 0 Nulos\n"
     ]
    }
   ],
   "source": [
    "print(f\"Columnas que continen valores 97, 98 y 99:\\n\")\n",
    "for columna in df.columns:\n",
    "    # Filtrar las celdas que contienen 97 o 99 en la columna actual\n",
    "    valores_97_99 = df[columna].isin([97, 98, 99])\n",
    "    # Contar la cantidad de valores 97 o 99 en la columna actual\n",
    "    cuenta = valores_97_99.sum()\n",
    "    # Imprimir el nombre de la columna y la cuenta de valores\n",
    "    print(f\"Columna: {columna} - Contiene: {cuenta} Nulos\")"
   ]
  },
  {
   "cell_type": "markdown",
   "id": "504d50b7",
   "metadata": {},
   "source": [
    "**Resumen de las acciones con los valores nulos**\n",
    "*   Columnas **eliminadas**\n",
    "    **DATE_DIED , INTUBBED , ICU , PREGNANT**  \n",
    "\n",
    "*   Columnas **tratadas**\n",
    "    **AGE, PNEUMONIA**\n"
   ]
  },
  {
   "cell_type": "markdown",
   "id": "a60e1d1c",
   "metadata": {},
   "source": [
    "## Gráficos"
   ]
  },
  {
   "cell_type": "code",
   "execution_count": 29,
   "id": "93ab08d6",
   "metadata": {},
   "outputs": [
    {
     "data": {
      "image/png": "[encoded data removed]",
      "text/plain": [
       "<Figure size 576x432 with 1 Axes>"
      ]
     },
     "metadata": {
      "needs_background": "light"
     },
     "output_type": "display_data"
    }
   ],
   "source": [
    "# Histograma para la columna 'AGE'\n",
    "plt.figure(figsize=(8, 6))\n",
    "plt.hist(df['AGE'], bins=10)\n",
    "plt.xlabel('Edad')\n",
    "plt.ylabel('Frecuencia')\n",
    "plt.title('Distribución de edades')\n",
    "plt.show()"
   ]
  },
  {
   "cell_type": "markdown",
   "id": "f524279a",
   "metadata": {},
   "source": [
    "La mayoria de los pacientes oscila entre los 25 y los 60 años."
   ]
  },
  {
   "cell_type": "code",
   "execution_count": 30,
   "id": "3745ddc6",
   "metadata": {},
   "outputs": [
    {
     "data": {
      "image/png": "[encoded data removed]",
      "text/plain": [
       "<Figure size 432x216 with 1 Axes>"
      ]
     },
     "metadata": {
      "needs_background": "light"
     },
     "output_type": "display_data"
    }
   ],
   "source": [
    "# Gráfico de barras para la columna 'SEX'\n",
    "sex_counts = df['SEX'].value_counts()\n",
    "plt.figure(figsize=(6, 3))\n",
    "plt.bar(sex_counts.index, sex_counts.values)\n",
    "plt.xlabel('Género')\n",
    "plt.ylabel('Cantidad')\n",
    "plt.title('Distribución de género')\n",
    "plt.xticks(sex_counts.index, ['Femenino', 'Masculino'])\n",
    "plt.show()"
   ]
  },
  {
   "cell_type": "markdown",
   "id": "ce5fedaa",
   "metadata": {},
   "source": [
    "Tras el cambio realizado al analizar la columna PREGNANT se comprueba la compensación en el género."
   ]
  },
  {
   "cell_type": "code",
   "execution_count": 31,
   "id": "1f352762",
   "metadata": {},
   "outputs": [
    {
     "data": {
      "image/png": "[encoded data removed]",
      "text/plain": [
       "<Figure size 576x432 with 1 Axes>"
      ]
     },
     "metadata": {
      "needs_background": "light"
     },
     "output_type": "display_data"
    }
   ],
   "source": [
    "# Gráfico de barras apiladas para las columnas 'DIABETES' y 'OBESITY'\n",
    "diabetes_obesity_counts = df.groupby(['DIABETES', 'OBESITY']).size().unstack()\n",
    "diabetes_obesity_counts.plot(kind='bar', stacked=True, figsize=(8, 6))\n",
    "plt.xlabel('Diabetes')\n",
    "plt.ylabel('Cantidad')\n",
    "plt.title('Distribución de diabetes y obesidad')\n",
    "plt.xticks([0, 1], ['No', 'Sí'])\n",
    "plt.legend(['No obeso', 'Obeso'])\n",
    "plt.show()"
   ]
  },
  {
   "cell_type": "markdown",
   "id": "b63f4805",
   "metadata": {},
   "source": [
    "En este grafico vemos que una gran cantidad de los pacientes que tenian diabetes tambien tenian obesidad"
   ]
  },
  {
   "cell_type": "code",
   "execution_count": 32,
   "id": "dc9a0f48",
   "metadata": {},
   "outputs": [
    {
     "data": {
      "image/png": "[encoded data removed]",
      "text/plain": [
       "<Figure size 576x432 with 1 Axes>"
      ]
     },
     "metadata": {
      "needs_background": "light"
     },
     "output_type": "display_data"
    }
   ],
   "source": [
    "# Gráfico de barras para la columna 'CLASIFFICATION_FINAL'\n",
    "classification_counts = df['CLASIFFICATION_FINAL'].value_counts()\n",
    "plt.figure(figsize=(8, 6))\n",
    "plt.bar(classification_counts.index, classification_counts.values)\n",
    "plt.xlabel('Resultado de la prueba')\n",
    "plt.ylabel('Cantidad')\n",
    "plt.title('Distribución de resultados de prueba COVID-19')\n",
    "plt.show()"
   ]
  },
  {
   "cell_type": "markdown",
   "id": "70be9517",
   "metadata": {},
   "source": [
    "Resultados de la prueba de COVID. Los valores 1-3 significan que al paciente se le diagnosticó COVID \n",
    "en diferentes grados. 4 o más alto significa que el paciente no es portador de COVID o que la prueba es inconclusa."
   ]
  },
  {
   "cell_type": "code",
   "execution_count": 33,
   "id": "d105557d",
   "metadata": {},
   "outputs": [
    {
     "data": {
      "image/png": "[encoded data removed]",
      "text/plain": [
       "<Figure size 576x432 with 1 Axes>"
      ]
     },
     "metadata": {
      "needs_background": "light"
     },
     "output_type": "display_data"
    }
   ],
   "source": [
    "# Filtrar los pacientes hospitalizados\n",
    "hospitalized_patients = df[df['PATIENT_TYPE'] == 0]\n",
    "\n",
    "# Gráfico de histograma para las edades de los pacientes hospitalizados\n",
    "plt.figure(figsize=(8, 6))\n",
    "plt.hist(hospitalized_patients['AGE'], bins=10)\n",
    "plt.xlabel('Edad')\n",
    "plt.ylabel('Frecuencia')\n",
    "plt.title('Distribución de edades de pacientes hospitalizados')\n",
    "plt.show()"
   ]
  },
  {
   "cell_type": "markdown",
   "id": "408bae27",
   "metadata": {},
   "source": [
    "De aquí concluyo que hay mas complicaciones con niños que adolescentes , y los adultos cuanto mayor \n",
    "es la edad mas frecuente la hospitalizacion."
   ]
  },
  {
   "cell_type": "code",
   "execution_count": 34,
   "id": "a29aae65",
   "metadata": {},
   "outputs": [
    {
     "data": {
      "image/png": "[encoded data removed]",
      "text/plain": [
       "<Figure size 432x288 with 1 Axes>"
      ]
     },
     "metadata": {
      "needs_background": "light"
     },
     "output_type": "display_data"
    }
   ],
   "source": [
    "sns.countplot(df, x= 'surviving_patients', hue='SEX')\n",
    "plt.xticks([0, 1], ['Fallecidos', 'Sobrevivientes'])\n",
    "plt.legend(['Hombre', 'Mujer'])\n",
    "plt.show()"
   ]
  },
  {
   "cell_type": "markdown",
   "id": "466a4815",
   "metadata": {},
   "source": [
    "En este gráfico se puede apreciar que la mayoría de los pacientes sobrevivieron, y que de entre los fallecidos, los hombres parecen ser los más vulnerables.   "
   ]
  },
  {
   "cell_type": "code",
   "execution_count": 35,
   "id": "7ab32d33",
   "metadata": {},
   "outputs": [
    {
     "data": {
      "text/plain": [
       "array([[<Axes: title={'center': 'USMER'}>,\n",
       "        <Axes: title={'center': 'MEDICAL_UNIT'}>,\n",
       "        <Axes: title={'center': 'SEX'}>,\n",
       "        <Axes: title={'center': 'PATIENT_TYPE'}>],\n",
       "       [<Axes: title={'center': 'PNEUMONIA'}>,\n",
       "        <Axes: title={'center': 'AGE'}>,\n",
       "        <Axes: title={'center': 'DIABETES'}>,\n",
       "        <Axes: title={'center': 'COPD'}>],\n",
       "       [<Axes: title={'center': 'ASTHMA'}>,\n",
       "        <Axes: title={'center': 'INMSUPR'}>,\n",
       "        <Axes: title={'center': 'HIPERTENSION'}>,\n",
       "        <Axes: title={'center': 'OTHER_DISEASE'}>],\n",
       "       [<Axes: title={'center': 'CARDIOVASCULAR'}>,\n",
       "        <Axes: title={'center': 'OBESITY'}>,\n",
       "        <Axes: title={'center': 'RENAL_CHRONIC'}>,\n",
       "        <Axes: title={'center': 'TOBACCO'}>],\n",
       "       [<Axes: title={'center': 'CLASIFFICATION_FINAL'}>,\n",
       "        <Axes: title={'center': 'surviving_patients'}>, <Axes: >,\n",
       "        <Axes: >]], dtype=object)"
      ]
     },
     "execution_count": 35,
     "metadata": {},
     "output_type": "execute_result"
    },
    {
     "data": {
      "image/png": "[encoded data removed]",
      "text/plain": [
       "<Figure size 1440x1080 with 20 Axes>"
      ]
     },
     "metadata": {
      "needs_background": "light"
     },
     "output_type": "display_data"
    }
   ],
   "source": [
    "df.hist(figsize=(20,15))"
   ]
  },
  {
   "cell_type": "markdown",
   "id": "e23ab17f",
   "metadata": {},
   "source": [
    "Viendo estos gráficos, adelanto que exceptuando AGE, ninguna de las demas columnas sigue una distribución normal, en lo que al tratado de outliers concierne."
   ]
  },
  {
   "cell_type": "markdown",
   "id": "b109f34f",
   "metadata": {},
   "source": [
    "## Outliers"
   ]
  },
  {
   "cell_type": "markdown",
   "id": "2c97990d",
   "metadata": {},
   "source": [
    "Como comenté anteriormente el único gráfico con pinta de distribuición normal es la de **AGE**"
   ]
  },
  {
   "cell_type": "code",
   "execution_count": 36,
   "id": "2b05f25f",
   "metadata": {},
   "outputs": [
    {
     "data": {
      "image/png": "[encoded data removed]",
      "text/plain": [
       "<Figure size 432x288 with 1 Axes>"
      ]
     },
     "metadata": {
      "needs_background": "light"
     },
     "output_type": "display_data"
    }
   ],
   "source": [
    "# Crear un boxplot de la columna \"AGE\"\n",
    "sns.boxplot(x=df['AGE'])\n",
    "\n",
    "# Mostrar el gráfico\n",
    "plt.show()"
   ]
  },
  {
   "cell_type": "markdown",
   "id": "852d98f0",
   "metadata": {},
   "source": [
    "Debido a la relativa gran cantidad de muestras, decido tratarlas como valores dentro de lo normal."
   ]
  },
  {
   "cell_type": "markdown",
   "id": "fca5de78",
   "metadata": {},
   "source": [
    "## Examinar los distintos órdenes de magnitud/ Datos categóricos"
   ]
  },
  {
   "cell_type": "code",
   "execution_count": 37,
   "id": "8225d959",
   "metadata": {},
   "outputs": [
    {
     "name": "stdout",
     "output_type": "stream",
     "text": [
      "<class 'pandas.core.frame.DataFrame'>\n",
      "RangeIndex: 1048575 entries, 0 to 1048574\n",
      "Data columns (total 18 columns):\n",
      " #   Column                Non-Null Count    Dtype  \n",
      "---  ------                --------------    -----  \n",
      " 0   USMER                 1048575 non-null  int64  \n",
      " 1   MEDICAL_UNIT          1048575 non-null  int64  \n",
      " 2   SEX                   1048575 non-null  int64  \n",
      " 3   PATIENT_TYPE          1048575 non-null  int64  \n",
      " 4   PNEUMONIA             1048575 non-null  int64  \n",
      " 5   AGE                   1048575 non-null  float64\n",
      " 6   DIABETES              1048575 non-null  int64  \n",
      " 7   COPD                  1048575 non-null  int64  \n",
      " 8   ASTHMA                1048575 non-null  int64  \n",
      " 9   INMSUPR               1048575 non-null  int64  \n",
      " 10  HIPERTENSION          1048575 non-null  int64  \n",
      " 11  OTHER_DISEASE         1048575 non-null  int64  \n",
      " 12  CARDIOVASCULAR        1048575 non-null  int64  \n",
      " 13  OBESITY               1048575 non-null  int64  \n",
      " 14  RENAL_CHRONIC         1048575 non-null  int64  \n",
      " 15  TOBACCO               1048575 non-null  int64  \n",
      " 16  CLASIFFICATION_FINAL  1048575 non-null  int64  \n",
      " 17  surviving_patients    1048575 non-null  int64  \n",
      "dtypes: float64(1), int64(17)\n",
      "memory usage: 144.0 MB\n"
     ]
    }
   ],
   "source": [
    "df.info()"
   ]
  },
  {
   "cell_type": "markdown",
   "id": "495e2a4d",
   "metadata": {},
   "source": [
    "Dado quetodas las columnas son numéricas, no hay datos categóricos que deban ser tratados. Aunque decido convertir **AGE** en número entero para que no desentone con el resto."
   ]
  },
  {
   "cell_type": "code",
   "execution_count": 38,
   "id": "83831c7b",
   "metadata": {},
   "outputs": [],
   "source": [
    "df['AGE'] = df['AGE'].astype(int)"
   ]
  },
  {
   "cell_type": "code",
   "execution_count": 39,
   "id": "7cf4b7ee",
   "metadata": {},
   "outputs": [
    {
     "name": "stdout",
     "output_type": "stream",
     "text": [
      "<class 'pandas.core.frame.DataFrame'>\n",
      "RangeIndex: 1048575 entries, 0 to 1048574\n",
      "Data columns (total 18 columns):\n",
      " #   Column                Non-Null Count    Dtype\n",
      "---  ------                --------------    -----\n",
      " 0   USMER                 1048575 non-null  int64\n",
      " 1   MEDICAL_UNIT          1048575 non-null  int64\n",
      " 2   SEX                   1048575 non-null  int64\n",
      " 3   PATIENT_TYPE          1048575 non-null  int64\n",
      " 4   PNEUMONIA             1048575 non-null  int64\n",
      " 5   AGE                   1048575 non-null  int64\n",
      " 6   DIABETES              1048575 non-null  int64\n",
      " 7   COPD                  1048575 non-null  int64\n",
      " 8   ASTHMA                1048575 non-null  int64\n",
      " 9   INMSUPR               1048575 non-null  int64\n",
      " 10  HIPERTENSION          1048575 non-null  int64\n",
      " 11  OTHER_DISEASE         1048575 non-null  int64\n",
      " 12  CARDIOVASCULAR        1048575 non-null  int64\n",
      " 13  OBESITY               1048575 non-null  int64\n",
      " 14  RENAL_CHRONIC         1048575 non-null  int64\n",
      " 15  TOBACCO               1048575 non-null  int64\n",
      " 16  CLASIFFICATION_FINAL  1048575 non-null  int64\n",
      " 17  surviving_patients    1048575 non-null  int64\n",
      "dtypes: int64(18)\n",
      "memory usage: 144.0 MB\n"
     ]
    }
   ],
   "source": [
    "df.info()"
   ]
  },
  {
   "cell_type": "markdown",
   "id": "f08b1f8c",
   "metadata": {},
   "source": [
    "## Selección de variables"
   ]
  },
  {
   "cell_type": "code",
   "execution_count": 40,
   "id": "73ceb429",
   "metadata": {},
   "outputs": [
    {
     "data": {
      "text/plain": [
       "<Axes: >"
      ]
     },
     "execution_count": 40,
     "metadata": {},
     "output_type": "execute_result"
    },
    {
     "data": {
      "image/png": "[encoded data removed]",
      "text/plain": [
       "<Figure size 1080x432 with 2 Axes>"
      ]
     },
     "metadata": {
      "needs_background": "light"
     },
     "output_type": "display_data"
    }
   ],
   "source": [
    "plt.figure(figsize=(15, 6))\n",
    "sns.heatmap(df.corr(), annot=True, cmap='coolwarm')"
   ]
  },
  {
   "cell_type": "markdown",
   "id": "6f8a0f88",
   "metadata": {},
   "source": [
    "No parece haber ninguna columna que solape a otra en cuanto a información, por lo que en principio las conservaré todas."
   ]
  },
  {
   "cell_type": "markdown",
   "id": "ab2a1c56",
   "metadata": {},
   "source": [
    "## Desbalanceo en objetivo"
   ]
  },
  {
   "cell_type": "code",
   "execution_count": 41,
   "id": "1e5516a1",
   "metadata": {},
   "outputs": [
    {
     "data": {
      "text/plain": [
       "<Axes: xlabel='surviving_patients', ylabel='count'>"
      ]
     },
     "execution_count": 41,
     "metadata": {},
     "output_type": "execute_result"
    },
    {
     "data": {
      "image/png": "[encoded data removed]",
      "text/plain": [
       "<Figure size 432x288 with 1 Axes>"
      ]
     },
     "metadata": {
      "needs_background": "light"
     },
     "output_type": "display_data"
    }
   ],
   "source": [
    "sns.countplot(data=df,x='surviving_patients')"
   ]
  },
  {
   "cell_type": "markdown",
   "id": "79a5fd8e",
   "metadata": {},
   "source": [
    "El desbalanceo es notorio y en caso de querer balancearlo tendría más sentido sobremuestrear la cantidad de fallecidos que reducir la cantidad de sobrevivientes. Voy a tratar de hacer los módelos de esta manera, pero si veo que tarda demasiado de esta, probaré a hacerlos sin balancear."
   ]
  },
  {
   "cell_type": "code",
   "execution_count": 42,
   "id": "b6bb0322",
   "metadata": {},
   "outputs": [],
   "source": [
    "from imblearn.over_sampling import SMOTE\n",
    "\n",
    "# Separar las características y la variable objetivo\n",
    "X = df.drop('surviving_patients', axis=1)\n",
    "y = df['surviving_patients']\n",
    "\n",
    "# Aplicar la técnica de sobremuestreo SMOTE\n",
    "smote = SMOTE(random_state=42)\n",
    "X_resampled, y_resampled = smote.fit_resample(X, y)\n",
    "\n",
    "# Crear un nuevo DataFrame con los datos sobremuestreados\n",
    "oversampled_df = pd.DataFrame(X_resampled, columns=X.columns)\n",
    "oversampled_df['surviving_patients'] = y_resampled"
   ]
  },
  {
   "cell_type": "code",
   "execution_count": 43,
   "id": "487e6a38",
   "metadata": {},
   "outputs": [
    {
     "name": "stdout",
     "output_type": "stream",
     "text": [
      "surviving_patients\n",
      "0    971633\n",
      "1    971633\n",
      "Name: count, dtype: int64\n"
     ]
    }
   ],
   "source": [
    "value_counts = oversampled_df[\"surviving_patients\"].value_counts()\n",
    "print(value_counts)"
   ]
  },
  {
   "cell_type": "markdown",
   "id": "4a80a653",
   "metadata": {},
   "source": [
    "Ahora que las variables están igualadas, puedo pasar al Entrenamiento de los modelos."
   ]
  },
  {
   "cell_type": "markdown",
   "id": "9568b179",
   "metadata": {},
   "source": [
    "## Entrenamiento de los modelos"
   ]
  },
  {
   "cell_type": "code",
   "execution_count": 44,
   "id": "9f20ee35",
   "metadata": {},
   "outputs": [
    {
     "data": {
      "text/plain": [
       "17"
      ]
     },
     "execution_count": 44,
     "metadata": {},
     "output_type": "execute_result"
    }
   ],
   "source": [
    "from sklearn.model_selection import train_test_split\n",
    "\n",
    "X = oversampled_df.drop(\"surviving_patients\", axis=1)\n",
    "y = oversampled_df[\"surviving_patients\"]\n",
    "\n",
    "X_train, X_test, y_train, y_test = train_test_split(X, y, test_size=0.25, random_state=42)\n",
    "\n",
    "len(X_train.columns)"
   ]
  },
  {
   "cell_type": "code",
   "execution_count": 45,
   "id": "003601a7",
   "metadata": {},
   "outputs": [],
   "source": [
    "from sklearn.metrics import accuracy_score, confusion_matrix, ConfusionMatrixDisplay, classification_report\n",
    "\n",
    "def show_metrics(clf, y_test, y_pred):\n",
    "    print(f'Accuracy score: {int(accuracy_score(y_test, y_pred)*100)}%\\n')\n",
    "    print(classification_report(y_test, y_pred))\n",
    "\n",
    "    cm = confusion_matrix(y_test, y_pred, labels=clf.classes_)\n",
    "    disp = ConfusionMatrixDisplay(confusion_matrix=cm,\n",
    "                                  display_labels=clf.classes_)\n",
    "    disp.plot()\n",
    "    plt.show()"
   ]
  },
  {
   "cell_type": "markdown",
   "id": "4e2bb47c",
   "metadata": {},
   "source": [
    "### Regresión logística"
   ]
  },
  {
   "cell_type": "code",
   "execution_count": 271,
   "id": "246ad816",
   "metadata": {},
   "outputs": [
    {
     "name": "stderr",
     "output_type": "stream",
     "text": [
      "/home/ulises/.local/lib/python3.10/site-packages/sklearn/linear_model/_logistic.py:458: ConvergenceWarning: lbfgs failed to converge (status=1):\n",
      "STOP: TOTAL NO. of ITERATIONS REACHED LIMIT.\n",
      "\n",
      "Increase the number of iterations (max_iter) or scale the data as shown in:\n",
      "    https://scikit-learn.org/stable/modules/preprocessing.html\n",
      "Please also refer to the documentation for alternative solver options:\n",
      "    https://scikit-learn.org/stable/modules/linear_model.html#logistic-regression\n",
      "  n_iter_i = _check_optimize_result(\n"
     ]
    },
    {
     "name": "stdout",
     "output_type": "stream",
     "text": [
      "Accuracy score: 91%\n",
      "\n",
      "              precision    recall  f1-score   support\n",
      "\n",
      "           0       0.90      0.94      0.92    243036\n",
      "           1       0.93      0.89      0.91    242781\n",
      "\n",
      "    accuracy                           0.91    485817\n",
      "   macro avg       0.91      0.91      0.91    485817\n",
      "weighted avg       0.91      0.91      0.91    485817\n",
      "\n"
     ]
    },
    {
     "data": {
      "image/png": "[encoded data removed]",
      "text/plain": [
       "<Figure size 432x288 with 2 Axes>"
      ]
     },
     "metadata": {
      "needs_background": "light"
     },
     "output_type": "display_data"
    }
   ],
   "source": [
    "from sklearn.linear_model import LogisticRegression\n",
    "\n",
    "logreg = LogisticRegression()\n",
    "logreg.fit(X_train, y_train)\n",
    "\n",
    "y_pred = logreg.predict(X_test)\n",
    "\n",
    "show_metrics(logreg, y_test, y_pred)"
   ]
  },
  {
   "cell_type": "markdown",
   "id": "8f841ead",
   "metadata": {},
   "source": [
    "### Naive bayes"
   ]
  },
  {
   "cell_type": "code",
   "execution_count": 272,
   "id": "f49d09a7",
   "metadata": {},
   "outputs": [
    {
     "name": "stdout",
     "output_type": "stream",
     "text": [
      "Accuracy score: 90%\n",
      "\n",
      "              precision    recall  f1-score   support\n",
      "\n",
      "           0       0.88      0.93      0.91    243036\n",
      "           1       0.92      0.88      0.90    242781\n",
      "\n",
      "    accuracy                           0.90    485817\n",
      "   macro avg       0.90      0.90      0.90    485817\n",
      "weighted avg       0.90      0.90      0.90    485817\n",
      "\n"
     ]
    },
    {
     "data": {
      "image/png": "[encoded data removed]",
      "text/plain": [
       "<Figure size 432x288 with 2 Axes>"
      ]
     },
     "metadata": {
      "needs_background": "light"
     },
     "output_type": "display_data"
    }
   ],
   "source": [
    "from sklearn.naive_bayes import GaussianNB\n",
    "\n",
    "gaussian = GaussianNB()\n",
    "gaussian.fit(X_train, y_train)\n",
    "\n",
    "y_pred = gaussian.predict(X_test)\n",
    "\n",
    "show_metrics(gaussian, y_test, y_pred)"
   ]
  },
  {
   "cell_type": "markdown",
   "id": "4b84347e",
   "metadata": {},
   "source": [
    "### Decision tree"
   ]
  },
  {
   "cell_type": "code",
   "execution_count": 273,
   "id": "e85d475e",
   "metadata": {},
   "outputs": [
    {
     "name": "stdout",
     "output_type": "stream",
     "text": [
      "Accuracy score: 93%\n",
      "\n",
      "              precision    recall  f1-score   support\n",
      "\n",
      "           0       0.91      0.97      0.94    243036\n",
      "           1       0.97      0.91      0.94    242781\n",
      "\n",
      "    accuracy                           0.94    485817\n",
      "   macro avg       0.94      0.94      0.94    485817\n",
      "weighted avg       0.94      0.94      0.94    485817\n",
      "\n"
     ]
    },
    {
     "data": {
      "image/png": "[encoded data removed]",
      "text/plain": [
       "<Figure size 432x288 with 2 Axes>"
      ]
     },
     "metadata": {
      "needs_background": "light"
     },
     "output_type": "display_data"
    }
   ],
   "source": [
    "from sklearn.tree import DecisionTreeClassifier\n",
    "\n",
    "decision_tree = DecisionTreeClassifier()\n",
    "decision_tree.fit(X_train, y_train)\n",
    "\n",
    "y_pred = decision_tree.predict(X_test)\n",
    "\n",
    "show_metrics(decision_tree, y_test, y_pred)"
   ]
  },
  {
   "cell_type": "markdown",
   "id": "b130ce64",
   "metadata": {},
   "source": [
    "### Random forest"
   ]
  },
  {
   "cell_type": "code",
   "execution_count": 274,
   "id": "6030aaa6",
   "metadata": {},
   "outputs": [
    {
     "name": "stdout",
     "output_type": "stream",
     "text": [
      "Accuracy score: 93%\n",
      "\n",
      "              precision    recall  f1-score   support\n",
      "\n",
      "           0       0.91      0.97      0.94    243036\n",
      "           1       0.97      0.91      0.94    242781\n",
      "\n",
      "    accuracy                           0.94    485817\n",
      "   macro avg       0.94      0.94      0.94    485817\n",
      "weighted avg       0.94      0.94      0.94    485817\n",
      "\n"
     ]
    },
    {
     "data": {
      "image/png": "[encoded data removed]",
      "text/plain": [
       "<Figure size 432x288 with 2 Axes>"
      ]
     },
     "metadata": {
      "needs_background": "light"
     },
     "output_type": "display_data"
    }
   ],
   "source": [
    "from sklearn.ensemble import RandomForestClassifier\n",
    "\n",
    "random_forest = RandomForestClassifier()\n",
    "random_forest.fit(X_train, y_train)\n",
    "\n",
    "y_pred = random_forest.predict(X_test)\n",
    "\n",
    "show_metrics(random_forest, y_test, y_pred)"
   ]
  },
  {
   "cell_type": "code",
   "execution_count": 275,
   "id": "53e77cca",
   "metadata": {},
   "outputs": [
    {
     "data": {
      "text/html": [
       "<div>\n",
       "<style scoped>\n",
       "    .dataframe tbody tr th:only-of-type {\n",
       "        vertical-align: middle;\n",
       "    }\n",
       "\n",
       "    .dataframe tbody tr th {\n",
       "        vertical-align: top;\n",
       "    }\n",
       "\n",
       "    .dataframe thead th {\n",
       "        text-align: right;\n",
       "    }\n",
       "</style>\n",
       "<table border=\"1\" class=\"dataframe\">\n",
       "  <thead>\n",
       "    <tr style=\"text-align: right;\">\n",
       "      <th></th>\n",
       "      <th>importance</th>\n",
       "    </tr>\n",
       "    <tr>\n",
       "      <th>feature</th>\n",
       "      <th></th>\n",
       "    </tr>\n",
       "  </thead>\n",
       "  <tbody>\n",
       "    <tr>\n",
       "      <th>PATIENT_TYPE</th>\n",
       "      <td>0.461</td>\n",
       "    </tr>\n",
       "    <tr>\n",
       "      <th>AGE</th>\n",
       "      <td>0.191</td>\n",
       "    </tr>\n",
       "    <tr>\n",
       "      <th>PNEUMONIA</th>\n",
       "      <td>0.183</td>\n",
       "    </tr>\n",
       "    <tr>\n",
       "      <th>CLASIFFICATION_FINAL</th>\n",
       "      <td>0.048</td>\n",
       "    </tr>\n",
       "    <tr>\n",
       "      <th>MEDICAL_UNIT</th>\n",
       "      <td>0.048</td>\n",
       "    </tr>\n",
       "    <tr>\n",
       "      <th>DIABETES</th>\n",
       "      <td>0.013</td>\n",
       "    </tr>\n",
       "    <tr>\n",
       "      <th>HIPERTENSION</th>\n",
       "      <td>0.012</td>\n",
       "    </tr>\n",
       "    <tr>\n",
       "      <th>SEX</th>\n",
       "      <td>0.011</td>\n",
       "    </tr>\n",
       "    <tr>\n",
       "      <th>USMER</th>\n",
       "      <td>0.009</td>\n",
       "    </tr>\n",
       "    <tr>\n",
       "      <th>OBESITY</th>\n",
       "      <td>0.005</td>\n",
       "    </tr>\n",
       "    <tr>\n",
       "      <th>OTHER_DISEASE</th>\n",
       "      <td>0.003</td>\n",
       "    </tr>\n",
       "    <tr>\n",
       "      <th>RENAL_CHRONIC</th>\n",
       "      <td>0.003</td>\n",
       "    </tr>\n",
       "    <tr>\n",
       "      <th>TOBACCO</th>\n",
       "      <td>0.003</td>\n",
       "    </tr>\n",
       "    <tr>\n",
       "      <th>ASTHMA</th>\n",
       "      <td>0.003</td>\n",
       "    </tr>\n",
       "    <tr>\n",
       "      <th>INMSUPR</th>\n",
       "      <td>0.002</td>\n",
       "    </tr>\n",
       "    <tr>\n",
       "      <th>COPD</th>\n",
       "      <td>0.002</td>\n",
       "    </tr>\n",
       "    <tr>\n",
       "      <th>CARDIOVASCULAR</th>\n",
       "      <td>0.002</td>\n",
       "    </tr>\n",
       "  </tbody>\n",
       "</table>\n",
       "</div>"
      ],
      "text/plain": [
       "                      importance\n",
       "feature                         \n",
       "PATIENT_TYPE               0.461\n",
       "AGE                        0.191\n",
       "PNEUMONIA                  0.183\n",
       "CLASIFFICATION_FINAL       0.048\n",
       "MEDICAL_UNIT               0.048\n",
       "DIABETES                   0.013\n",
       "HIPERTENSION               0.012\n",
       "SEX                        0.011\n",
       "USMER                      0.009\n",
       "OBESITY                    0.005\n",
       "OTHER_DISEASE              0.003\n",
       "RENAL_CHRONIC              0.003\n",
       "TOBACCO                    0.003\n",
       "ASTHMA                     0.003\n",
       "INMSUPR                    0.002\n",
       "COPD                       0.002\n",
       "CARDIOVASCULAR             0.002"
      ]
     },
     "execution_count": 275,
     "metadata": {},
     "output_type": "execute_result"
    }
   ],
   "source": [
    "importances = pd.DataFrame({'feature':X_train.columns,'importance':np.round(random_forest.feature_importances_,3)})\n",
    "importances = importances.sort_values('importance',ascending=False).set_index('feature')\n",
    "importances"
   ]
  },
  {
   "cell_type": "code",
   "execution_count": 276,
   "id": "b63b5b75",
   "metadata": {},
   "outputs": [
    {
     "data": {
      "text/plain": [
       "<Axes: xlabel='feature'>"
      ]
     },
     "execution_count": 276,
     "metadata": {},
     "output_type": "execute_result"
    },
    {
     "data": {
      "image/png": "[encoded data removed]",
      "text/plain": [
       "<Figure size 432x288 with 1 Axes>"
      ]
     },
     "metadata": {
      "needs_background": "light"
     },
     "output_type": "display_data"
    }
   ],
   "source": [
    "importances.plot.bar()"
   ]
  },
  {
   "cell_type": "markdown",
   "id": "86f8346d",
   "metadata": {},
   "source": [
    "### Support vector machines "
   ]
  },
  {
   "cell_type": "code",
   "execution_count": null,
   "id": "810d23fd",
   "metadata": {},
   "outputs": [],
   "source": [
    "'''\n",
    "from sklearn.svm import SVC, LinearSVC\n",
    "\n",
    "linear_svc = SVC()\n",
    "linear_svc.fit(X_train, y_train)\n",
    "\n",
    "y_pred = linear_svc.predict(X_test)\n",
    "\n",
    "show_metrics(random_forest, y_test, y_pred)\n",
    "'''"
   ]
  },
  {
   "cell_type": "markdown",
   "id": "eb6ac147",
   "metadata": {},
   "source": [
    "Nunca termina de cargar."
   ]
  },
  {
   "cell_type": "markdown",
   "id": "b8640a4a",
   "metadata": {},
   "source": [
    "### KNN"
   ]
  },
  {
   "cell_type": "code",
   "execution_count": null,
   "id": "39931c61",
   "metadata": {},
   "outputs": [],
   "source": [
    "'''\n",
    "from sklearn.neighbors import KNeighborsClassifier\n",
    "\n",
    "# experimenting with different n values\n",
    "k_range = list(range(1,26))\n",
    "scores = []\n",
    "for k in k_range:\n",
    "    knn = KNeighborsClassifier(n_neighbors=k)\n",
    "    knn.fit(X_train, y_train)\n",
    "    y_pred = knn.predict(X_test)\n",
    "    scores.append(accuracy_score(y_test, y_pred))\n",
    "\n",
    "plt.plot(k_range, scores)\n",
    "plt.xlabel('Value of k for KNN')\n",
    "plt.ylabel('Accuracy Score')\n",
    "plt.title('Accuracy Scores for Values of k of k-Nearest-Neighbors')\n",
    "plt.show()\n",
    "'''"
   ]
  },
  {
   "cell_type": "markdown",
   "id": "f7410b43",
   "metadata": {},
   "source": [
    "idem que SVM."
   ]
  },
  {
   "cell_type": "markdown",
   "id": "adc5e834",
   "metadata": {},
   "source": [
    "## Entrenamiento de los modelos sin el oversampled"
   ]
  },
  {
   "cell_type": "code",
   "execution_count": 278,
   "id": "ba227949",
   "metadata": {},
   "outputs": [
    {
     "data": {
      "text/plain": [
       "17"
      ]
     },
     "execution_count": 278,
     "metadata": {},
     "output_type": "execute_result"
    }
   ],
   "source": [
    "from sklearn.model_selection import train_test_split\n",
    "\n",
    "X = df.drop(\"surviving_patients\", axis=1)\n",
    "y = df[\"surviving_patients\"]\n",
    "\n",
    "X_train, X_test, y_train, y_test = train_test_split(X, y, test_size=0.25, random_state=42)\n",
    "\n",
    "len(X_train.columns)"
   ]
  },
  {
   "cell_type": "markdown",
   "id": "44bf267e",
   "metadata": {},
   "source": [
    "### Regresión Logística"
   ]
  },
  {
   "cell_type": "code",
   "execution_count": 279,
   "id": "c14c5768",
   "metadata": {},
   "outputs": [
    {
     "name": "stderr",
     "output_type": "stream",
     "text": [
      "/home/ulises/.local/lib/python3.10/site-packages/sklearn/linear_model/_logistic.py:458: ConvergenceWarning: lbfgs failed to converge (status=1):\n",
      "STOP: TOTAL NO. of ITERATIONS REACHED LIMIT.\n",
      "\n",
      "Increase the number of iterations (max_iter) or scale the data as shown in:\n",
      "    https://scikit-learn.org/stable/modules/preprocessing.html\n",
      "Please also refer to the documentation for alternative solver options:\n",
      "    https://scikit-learn.org/stable/modules/linear_model.html#logistic-regression\n",
      "  n_iter_i = _check_optimize_result(\n"
     ]
    },
    {
     "name": "stdout",
     "output_type": "stream",
     "text": [
      "Accuracy score: 93%\n",
      "\n",
      "              precision    recall  f1-score   support\n",
      "\n",
      "           0       0.59      0.43      0.50     19014\n",
      "           1       0.96      0.98      0.97    243130\n",
      "\n",
      "    accuracy                           0.94    262144\n",
      "   macro avg       0.78      0.71      0.73    262144\n",
      "weighted avg       0.93      0.94      0.93    262144\n",
      "\n"
     ]
    },
    {
     "data": {
      "image/png": "[encoded data removed]",
      "text/plain": [
       "<Figure size 432x288 with 2 Axes>"
      ]
     },
     "metadata": {
      "needs_background": "light"
     },
     "output_type": "display_data"
    }
   ],
   "source": [
    "from sklearn.linear_model import LogisticRegression\n",
    "\n",
    "logreg = LogisticRegression()\n",
    "logreg.fit(X_train, y_train)\n",
    "\n",
    "y_pred = logreg.predict(X_test)\n",
    "\n",
    "show_metrics(logreg, y_test, y_pred)"
   ]
  },
  {
   "cell_type": "markdown",
   "id": "8e79c27d",
   "metadata": {},
   "source": [
    "### Naive bayes"
   ]
  },
  {
   "cell_type": "code",
   "execution_count": 280,
   "id": "cfdc37f4",
   "metadata": {},
   "outputs": [
    {
     "name": "stdout",
     "output_type": "stream",
     "text": [
      "Accuracy score: 88%\n",
      "\n",
      "              precision    recall  f1-score   support\n",
      "\n",
      "           0       0.36      0.77      0.49     19014\n",
      "           1       0.98      0.89      0.93    243130\n",
      "\n",
      "    accuracy                           0.88    262144\n",
      "   macro avg       0.67      0.83      0.71    262144\n",
      "weighted avg       0.94      0.88      0.90    262144\n",
      "\n"
     ]
    },
    {
     "data": {
      "image/png": "[encoded data removed]",
      "text/plain": [
       "<Figure size 432x288 with 2 Axes>"
      ]
     },
     "metadata": {
      "needs_background": "light"
     },
     "output_type": "display_data"
    }
   ],
   "source": [
    "from sklearn.naive_bayes import GaussianNB\n",
    "\n",
    "gaussian = GaussianNB()\n",
    "gaussian.fit(X_train, y_train)\n",
    "\n",
    "y_pred = gaussian.predict(X_test)\n",
    "\n",
    "show_metrics(gaussian, y_test, y_pred)"
   ]
  },
  {
   "cell_type": "markdown",
   "id": "bb6ccc31",
   "metadata": {},
   "source": [
    "Visto lo visto, me voy a detener aquí, ya que la precisión a la hora de obtener los fallecidos es previsiblemente escasa, siendo por lo tanto preferible los modelos hechos con el oversampled."
   ]
  },
  {
   "cell_type": "code",
   "execution_count": null,
   "id": "0ec6664c",
   "metadata": {},
   "outputs": [
    {
     "name": "stdout",
     "output_type": "stream",
     "text": [
      "Fitting 3 folds for each of 18 candidates, totalling 54 fits\n"
     ]
    }
   ],
   "source": [
    "'''\n",
    "from sklearn.model_selection import train_test_split\n",
    "from sklearn.tree import DecisionTreeClassifier\n",
    "from sklearn.model_selection import GridSearchCV\n",
    "\n",
    "X = oversampled_df.drop(\"surviving_patients\", axis=1)\n",
    "y = oversampled_df[\"surviving_patients\"]\n",
    "\n",
    "X_train, X_test, y_train, y_test = train_test_split(X, y, test_size=0.3, random_state=0)\n",
    "\n",
    "# Create the parameter grid based on the results of random search \n",
    "param_grid = {\n",
    "    'criterion': ['gini', 'entropy', 'log_loss'],\n",
    "    'splitter': ['best', 'random'],\n",
    "    'max_depth': [10, 50, None]\n",
    "}\n",
    "\n",
    "# Create a based model\n",
    "rf = DecisionTreeClassifier()\n",
    "\n",
    "# Instantiate the grid search model\n",
    "grid_search = GridSearchCV(estimator=rf, param_grid=param_grid, cv=3, n_jobs=-1, verbose=2)\n",
    "\n",
    "# Fit the grid search to the data\n",
    "grid_search.fit(X_train, y_train)\n",
    "print(f'Best params: {grid_search.best_params_}')\n",
    "\n",
    "best_grid = grid_search.best_estimator_\n",
    "y_pred = best_grid.predict(X_test)\n",
    "\n",
    "print(f'En el mejor test ha fallado {(y_test != y_pred).sum()} de {X_test.shape[0]}')\n",
    "'''"
   ]
  },
  {
   "cell_type": "markdown",
   "id": "2038eaba",
   "metadata": {},
   "source": [
    "Al tratar de usar el Gridsearch con el dataframe oversampled, el kernel directamente se me muere."
   ]
  },
  {
   "cell_type": "markdown",
   "id": "7cc40fed",
   "metadata": {},
   "source": [
    "## Red Neuronal"
   ]
  },
  {
   "cell_type": "code",
   "execution_count": 46,
   "id": "de015a0a",
   "metadata": {},
   "outputs": [
    {
     "name": "stderr",
     "output_type": "stream",
     "text": [
      "2023-07-06 01:00:01.007779: I tensorflow/tsl/cuda/cudart_stub.cc:28] Could not find cuda drivers on your machine, GPU will not be used.\n",
      "2023-07-06 01:00:01.455973: I tensorflow/tsl/cuda/cudart_stub.cc:28] Could not find cuda drivers on your machine, GPU will not be used.\n",
      "2023-07-06 01:00:01.457977: I tensorflow/core/platform/cpu_feature_guard.cc:182] This TensorFlow binary is optimized to use available CPU instructions in performance-critical operations.\n",
      "To enable the following instructions: AVX2 FMA, in other operations, rebuild TensorFlow with the appropriate compiler flags.\n",
      "2023-07-06 01:00:03.677815: W tensorflow/compiler/tf2tensorrt/utils/py_utils.cc:38] TF-TRT Warning: Could not find TensorRT\n"
     ]
    }
   ],
   "source": [
    "from tensorflow import keras\n",
    "from tensorflow.keras.callbacks import TensorBoard\n",
    "from sklearn.model_selection import train_test_split\n",
    "from sklearn.preprocessing import StandardScaler"
   ]
  },
  {
   "cell_type": "code",
   "execution_count": null,
   "id": "df3b3715",
   "metadata": {},
   "outputs": [
    {
     "name": "stderr",
     "output_type": "stream",
     "text": [
      "2023-07-06 01:00:39.674726: I tensorflow/compiler/xla/stream_executor/cuda/cuda_gpu_executor.cc:982] could not open file to read NUMA node: /sys/bus/pci/devices/0000:01:00.0/numa_node\n",
      "Your kernel may have been built without NUMA support.\n",
      "2023-07-06 01:00:39.689011: W tensorflow/core/common_runtime/gpu/gpu_device.cc:1956] Cannot dlopen some GPU libraries. Please make sure the missing libraries mentioned above are installed properly if you would like to use GPU. Follow the guide at https://www.tensorflow.org/install/gpu for how to download and setup the required libraries for your platform.\n",
      "Skipping registering GPU devices...\n"
     ]
    },
    {
     "name": "stdout",
     "output_type": "stream",
     "text": [
      "Epoch 1/10\n",
      "42509/42509 [==============================] - 299s 7ms/step - loss: 0.2190 - accuracy: 0.9204 - val_loss: 0.2163 - val_accuracy: 0.9216\n",
      "Epoch 2/10\n",
      "42509/42509 [==============================] - 285s 7ms/step - loss: 0.2140 - accuracy: 0.9222 - val_loss: 0.2131 - val_accuracy: 0.9228\n",
      "Epoch 3/10\n",
      "42509/42509 [==============================] - 304s 7ms/step - loss: 0.2123 - accuracy: 0.9229 - val_loss: 0.2123 - val_accuracy: 0.9233\n",
      "Epoch 4/10\n",
      " 7463/42509 [====>.........................] - ETA: 3:32 - loss: 0.2120 - accuracy: 0.9227"
     ]
    }
   ],
   "source": [
    "# Dividir los datos en conjuntos de entrenamiento y prueba\n",
    "X_train, X_test, y_train, y_test = train_test_split(oversampled_df.drop('surviving_patients', axis=1), oversampled_df['surviving_patients'], test_size=0.3, random_state=42)\n",
    "\n",
    "# Escalar los datos\n",
    "scaler = StandardScaler()\n",
    "X_train_scaled = scaler.fit_transform(X_train)\n",
    "X_test_scaled = scaler.transform(X_test)\n",
    "\n",
    "# Definir la arquitectura de la red neuronal\n",
    "model = keras.models.Sequential()\n",
    "model.add(keras.layers.Dense(64, activation='relu', input_shape=(X_train_scaled.shape[1],)))\n",
    "model.add(keras.layers.Dense(64, activation='relu'))\n",
    "model.add(keras.layers.Dense(1, activation='sigmoid'))\n",
    "\n",
    "# Compilar el modelo\n",
    "model.compile(optimizer='adam', loss='binary_crossentropy', metrics=['accuracy'])\n",
    "\n",
    "# Crear el callback de TensorBoard\n",
    "tensorboard_callback = TensorBoard(log_dir=\"logs/fit\")\n",
    "\n",
    "# Entrenar la red neuronal\n",
    "model.fit(X_train_scaled, y_train, epochs=10, batch_size=32, validation_data=(X_test_scaled, y_test), callbacks=[tensorboard_callback])\n",
    "\n",
    "# Evaluar el modelo en los datos de prueba\n",
    "loss, accuracy = model.evaluate(X_test_scaled, y_test)\n",
    "print('Loss:', loss)\n",
    "print('Accuracy:', accuracy)"
   ]
  }
 ],
 "metadata": {
  "kernelspec": {
   "display_name": "Python 3 (ipykernel)",
   "language": "python",
   "name": "python3"
  },
  "language_info": {
   "codemirror_mode": {
    "name": "ipython",
    "version": 3
   },
   "file_extension": ".py",
   "mimetype": "text/x-python",
   "name": "python",
   "nbconvert_exporter": "python",
   "pygments_lexer": "ipython3",
   "version": "3.10.6"
  }
 },
 "nbformat": 4,
 "nbformat_minor": 5
}
